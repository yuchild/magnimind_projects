{
 "cells": [
  {
   "cell_type": "code",
   "execution_count": 1,
   "id": "177a0a7a-00c4-4f6b-b414-388157058948",
   "metadata": {},
   "outputs": [
    {
     "name": "stdout",
     "output_type": "stream",
     "text": [
      "Collecting BeautifulSoup\n",
      "  Downloading BeautifulSoup-3.2.2.tar.gz (32 kB)\n",
      "  Preparing metadata (setup.py) ... \u001b[?25lerror\n",
      "  \u001b[1;31merror\u001b[0m: \u001b[1msubprocess-exited-with-error\u001b[0m\n",
      "  \n",
      "  \u001b[31m×\u001b[0m \u001b[32mpython setup.py egg_info\u001b[0m did not run successfully.\n",
      "  \u001b[31m│\u001b[0m exit code: \u001b[1;36m1\u001b[0m\n",
      "  \u001b[31m╰─>\u001b[0m \u001b[31m[7 lines of output]\u001b[0m\n",
      "  \u001b[31m   \u001b[0m Traceback (most recent call last):\n",
      "  \u001b[31m   \u001b[0m   File \"<string>\", line 2, in <module>\n",
      "  \u001b[31m   \u001b[0m   File \"<pip-setuptools-caller>\", line 34, in <module>\n",
      "  \u001b[31m   \u001b[0m   File \"/tmp/pip-install-9dwxb8ht/beautifulsoup_b58b76e6d7f546d29e25aedef168afc3/setup.py\", line 3\n",
      "  \u001b[31m   \u001b[0m     \"You're trying to run a very old release of Beautiful Soup under Python 3. This will not work.\"<>\"Please use Beautiful Soup 4, available through the pip package 'beautifulsoup4'.\"\n",
      "  \u001b[31m   \u001b[0m                                                                                                    ^^\n",
      "  \u001b[31m   \u001b[0m SyntaxError: invalid syntax\n",
      "  \u001b[31m   \u001b[0m \u001b[31m[end of output]\u001b[0m\n",
      "  \n",
      "  \u001b[1;35mnote\u001b[0m: This error originates from a subprocess, and is likely not a problem with pip.\n",
      "\u001b[1;31merror\u001b[0m: \u001b[1mmetadata-generation-failed\u001b[0m\n",
      "\n",
      "\u001b[31m×\u001b[0m Encountered error while generating package metadata.\n",
      "\u001b[31m╰─>\u001b[0m See above for output.\n",
      "\n",
      "\u001b[1;35mnote\u001b[0m: This is an issue with the package mentioned above, not pip.\n",
      "\u001b[1;36mhint\u001b[0m: See above for details.\n",
      "\u001b[?25h"
     ]
    }
   ],
   "source": [
    "!pip install BeautifulSoup"
   ]
  },
  {
   "cell_type": "code",
   "execution_count": null,
   "id": "0a37acd7-054f-46bc-b322-8686a814ea8f",
   "metadata": {},
   "outputs": [],
   "source": [
    "import os\n",
    "import pandas as pd\n",
    "from bs4 import BeautifulSoup"
   ]
  },
  {
   "cell_type": "code",
   "execution_count": null,
   "id": "717f02bd-99bf-41a1-bcc4-35f8f7a4a5b3",
   "metadata": {},
   "outputs": [],
   "source": [
    "# Define the directory containing the job posting HTML files\n",
    "job_postings_dir = \"./data/job_postings\"\n",
    "\n",
    "# Prepare a list to store the file name and its parsed text\n",
    "records = []\n",
    "\n",
    "# Loop over each file in the job_postings directory\n",
    "for file_name in os.listdir(job_postings_dir):\n",
    "    if file_name.endswith(\".html\"):\n",
    "        file_path = os.path.join(job_postings_dir, file_name)\n",
    "        with open(file_path, 'r', encoding='utf-8') as f:\n",
    "            html_content = f.read()\n",
    "\n",
    "            # Parse HTML with BeautifulSoup\n",
    "            soup = BeautifulSoup(html_content, 'html.parser')\n",
    "\n",
    "            # Extract text from the HTML\n",
    "            parsed_text = soup.get_text(separator=' ', strip=True)\n",
    "\n",
    "            # Store results\n",
    "            records.append({\n",
    "                \"filename\": file_name,\n",
    "                \"parsed_text\": parsed_text\n",
    "            })\n",
    "\n",
    "# Create a pandas DataFrame from the records\n",
    "df_jobs = pd.DataFrame(records, columns=[\"filename\", \"parsed_text\"])\n",
    "\n",
    "# Display the first few rows of the DataFrame\n",
    "df_jobs.head()\n"
   ]
  },
  {
   "cell_type": "code",
   "execution_count": null,
   "id": "11b96ade-611a-41a2-92f8-917d8615375d",
   "metadata": {},
   "outputs": [],
   "source": [
    "from collections import Counter\n",
    "\n",
    "tags_counter = Counter()\n",
    "\n",
    "for file_name in os.listdir(job_postings_dir):\n",
    "    if file_name.endswith(\".html\"):\n",
    "        file_path = os.path.join(job_postings_dir, file_name)\n",
    "        with open(file_path, 'r', encoding='utf-8') as f:\n",
    "            html_content = f.read()\n",
    "            soup = BeautifulSoup(html_content, 'html.parser')\n",
    "            \n",
    "            # Count all tag types\n",
    "            for tag in soup.find_all():\n",
    "                tags_counter[tag.name] += 1\n",
    "\n",
    "# Convert the Counter to a DataFrame to visualize\n",
    "df_tags = pd.DataFrame(tags_counter.items(), columns=['tag', 'count']).sort_values(by='count', ascending=False)\n",
    "df_tags.head(10)\n"
   ]
  },
  {
   "cell_type": "code",
   "execution_count": null,
   "id": "ad2f58f9-13bc-4ece-ae1c-b6461aafd278",
   "metadata": {},
   "outputs": [],
   "source": [
    "import re\n",
    "\n",
    "skill_keywords = [\"python\", \"sql\", \"machine learning\", \"data analysis\", \"statistics\", \"nlp\", \n",
    "                  \"deep learning\", \"cloud\", \"aws\", \"azure\", \"gcp\", \"etl\", \"excel\", \"power bi\"]\n",
    "\n",
    "skill_tag_counts = Counter()\n",
    "\n",
    "for file_name in os.listdir(job_postings_dir):\n",
    "    if file_name.endswith(\".html\"):\n",
    "        file_path = os.path.join(job_postings_dir, file_name)\n",
    "        with open(file_path, 'r', encoding='utf-8') as f:\n",
    "            html_content = f.read()\n",
    "            soup = BeautifulSoup(html_content, 'html.parser')\n",
    "            \n",
    "            # For each HTML element, check if it contains any skill keywords\n",
    "            for tag in soup.find_all():\n",
    "                tag_text = tag.get_text(separator=' ', strip=True).lower()\n",
    "                if any(skill in tag_text for skill in skill_keywords):\n",
    "                    skill_tag_counts[tag.name] += 1\n",
    "\n",
    "df_skill_tags = pd.DataFrame(skill_tag_counts.items(), columns=['tag', 'count']).sort_values(by='count', ascending=False)\n",
    "df_skill_tags\n",
    "b"
   ]
  },
  {
   "cell_type": "code",
   "execution_count": null,
   "id": "af1e46c2-82cd-467a-8ad2-7f399491bae7",
   "metadata": {},
   "outputs": [],
   "source": []
  }
 ],
 "metadata": {
  "kernelspec": {
   "display_name": "Python (magpenv)",
   "language": "python",
   "name": "magpenv"
  },
  "language_info": {
   "codemirror_mode": {
    "name": "ipython",
    "version": 3
   },
   "file_extension": ".py",
   "mimetype": "text/x-python",
   "name": "python",
   "nbconvert_exporter": "python",
   "pygments_lexer": "ipython3",
   "version": "3.12.3"
  }
 },
 "nbformat": 4,
 "nbformat_minor": 5
}
