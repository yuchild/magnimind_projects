{
 "cells": [
  {
   "cell_type": "code",
   "execution_count": 1,
   "id": "01025a27-2c9e-4d55-8528-220c53e5b700",
   "metadata": {},
   "outputs": [
    {
     "name": "stdout",
     "output_type": "stream",
     "text": [
      "<class 'pandas.core.frame.DataFrame'>\n",
      "RangeIndex: 50000 entries, 0 to 49999\n",
      "Data columns (total 8 columns):\n",
      " #   Column          Non-Null Count  Dtype  \n",
      "---  ------          --------------  -----  \n",
      " 0   Unnamed: 0      50000 non-null  int64  \n",
      " 1   Main_ID         50000 non-null  object \n",
      " 2   Transaction_ID  50000 non-null  object \n",
      " 3   Date            50000 non-null  object \n",
      " 4   Price           50000 non-null  float64\n",
      " 5   Code_Product    50000 non-null  float64\n",
      " 6   Amount          50000 non-null  float64\n",
      " 7   ItemKey         28597 non-null  float64\n",
      "dtypes: float64(4), int64(1), object(3)\n",
      "memory usage: 3.1+ MB\n"
     ]
    }
   ],
   "source": [
    "import pandas as pd\n",
    "import numpy as np\n",
    "\n",
    "recom_df_raw = pd.read_csv('./data/recom.csv')\n",
    "recom_df = recom_df_raw.copy()\n",
    "\n",
    "recom_df.info()"
   ]
  },
  {
   "cell_type": "code",
   "execution_count": 2,
   "id": "c44c3be4-4814-4ef6-9931-2176ec26768c",
   "metadata": {},
   "outputs": [
    {
     "data": {
      "text/html": [
       "<div>\n",
       "<style scoped>\n",
       "    .dataframe tbody tr th:only-of-type {\n",
       "        vertical-align: middle;\n",
       "    }\n",
       "\n",
       "    .dataframe tbody tr th {\n",
       "        vertical-align: top;\n",
       "    }\n",
       "\n",
       "    .dataframe thead th {\n",
       "        text-align: right;\n",
       "    }\n",
       "</style>\n",
       "<table border=\"1\" class=\"dataframe\">\n",
       "  <thead>\n",
       "    <tr style=\"text-align: right;\">\n",
       "      <th></th>\n",
       "      <th>Unnamed: 0</th>\n",
       "      <th>Main_ID</th>\n",
       "      <th>Transaction_ID</th>\n",
       "      <th>Date</th>\n",
       "      <th>Price</th>\n",
       "      <th>Code_Product</th>\n",
       "      <th>Amount</th>\n",
       "      <th>ItemKey</th>\n",
       "    </tr>\n",
       "  </thead>\n",
       "  <tbody>\n",
       "    <tr>\n",
       "      <th>0</th>\n",
       "      <td>0</td>\n",
       "      <td>90fada91</td>\n",
       "      <td>264f7a69</td>\n",
       "      <td>2022-10-07 20:53:49.153</td>\n",
       "      <td>125.0</td>\n",
       "      <td>5002.0</td>\n",
       "      <td>1.0</td>\n",
       "      <td>5002.0</td>\n",
       "    </tr>\n",
       "    <tr>\n",
       "      <th>1</th>\n",
       "      <td>1</td>\n",
       "      <td>9006f9ac</td>\n",
       "      <td>45c7d853</td>\n",
       "      <td>2022-09-17 15:54:57.187</td>\n",
       "      <td>19.0</td>\n",
       "      <td>35012.0</td>\n",
       "      <td>1.0</td>\n",
       "      <td>NaN</td>\n",
       "    </tr>\n",
       "    <tr>\n",
       "      <th>2</th>\n",
       "      <td>2</td>\n",
       "      <td>32270891</td>\n",
       "      <td>61ad76dd</td>\n",
       "      <td>2022-11-28 13:51:55.667</td>\n",
       "      <td>141.0</td>\n",
       "      <td>5005.0</td>\n",
       "      <td>1.0</td>\n",
       "      <td>5005.0</td>\n",
       "    </tr>\n",
       "    <tr>\n",
       "      <th>3</th>\n",
       "      <td>3</td>\n",
       "      <td>97e03e47</td>\n",
       "      <td>41ee09f6</td>\n",
       "      <td>2022-09-12 16:20:22.110</td>\n",
       "      <td>4.5</td>\n",
       "      <td>35078.5</td>\n",
       "      <td>1.0</td>\n",
       "      <td>NaN</td>\n",
       "    </tr>\n",
       "    <tr>\n",
       "      <th>4</th>\n",
       "      <td>4</td>\n",
       "      <td>41949228</td>\n",
       "      <td>244fe6d8</td>\n",
       "      <td>2022-10-14 18:53:43.933</td>\n",
       "      <td>129.5</td>\n",
       "      <td>49291.5</td>\n",
       "      <td>5.0</td>\n",
       "      <td>NaN</td>\n",
       "    </tr>\n",
       "  </tbody>\n",
       "</table>\n",
       "</div>"
      ],
      "text/plain": [
       "   Unnamed: 0   Main_ID Transaction_ID                     Date  Price  \\\n",
       "0           0  90fada91       264f7a69  2022-10-07 20:53:49.153  125.0   \n",
       "1           1  9006f9ac       45c7d853  2022-09-17 15:54:57.187   19.0   \n",
       "2           2  32270891       61ad76dd  2022-11-28 13:51:55.667  141.0   \n",
       "3           3  97e03e47       41ee09f6  2022-09-12 16:20:22.110    4.5   \n",
       "4           4  41949228       244fe6d8  2022-10-14 18:53:43.933  129.5   \n",
       "\n",
       "   Code_Product  Amount  ItemKey  \n",
       "0        5002.0     1.0   5002.0  \n",
       "1       35012.0     1.0      NaN  \n",
       "2        5005.0     1.0   5005.0  \n",
       "3       35078.5     1.0      NaN  \n",
       "4       49291.5     5.0      NaN  "
      ]
     },
     "execution_count": 2,
     "metadata": {},
     "output_type": "execute_result"
    }
   ],
   "source": [
    "recom_df.head()"
   ]
  },
  {
   "cell_type": "code",
   "execution_count": 3,
   "id": "5e2d6ac0-1f1b-45ca-991d-5d76065da2c4",
   "metadata": {},
   "outputs": [
    {
     "data": {
      "text/html": [
       "<div>\n",
       "<style scoped>\n",
       "    .dataframe tbody tr th:only-of-type {\n",
       "        vertical-align: middle;\n",
       "    }\n",
       "\n",
       "    .dataframe tbody tr th {\n",
       "        vertical-align: top;\n",
       "    }\n",
       "\n",
       "    .dataframe thead th {\n",
       "        text-align: right;\n",
       "    }\n",
       "</style>\n",
       "<table border=\"1\" class=\"dataframe\">\n",
       "  <thead>\n",
       "    <tr style=\"text-align: right;\">\n",
       "      <th></th>\n",
       "      <th>Main_ID</th>\n",
       "      <th>Transaction_ID</th>\n",
       "      <th>Date</th>\n",
       "      <th>Price</th>\n",
       "      <th>Code_Product</th>\n",
       "      <th>Amount</th>\n",
       "      <th>ItemKey</th>\n",
       "    </tr>\n",
       "  </thead>\n",
       "  <tbody>\n",
       "    <tr>\n",
       "      <th>0</th>\n",
       "      <td>90fada91</td>\n",
       "      <td>264f7a69</td>\n",
       "      <td>2022-10-07 20:53:49.153</td>\n",
       "      <td>125.0</td>\n",
       "      <td>5002.0</td>\n",
       "      <td>1.0</td>\n",
       "      <td>5002.0</td>\n",
       "    </tr>\n",
       "    <tr>\n",
       "      <th>1</th>\n",
       "      <td>9006f9ac</td>\n",
       "      <td>45c7d853</td>\n",
       "      <td>2022-09-17 15:54:57.187</td>\n",
       "      <td>19.0</td>\n",
       "      <td>35012.0</td>\n",
       "      <td>1.0</td>\n",
       "      <td>NaN</td>\n",
       "    </tr>\n",
       "    <tr>\n",
       "      <th>2</th>\n",
       "      <td>32270891</td>\n",
       "      <td>61ad76dd</td>\n",
       "      <td>2022-11-28 13:51:55.667</td>\n",
       "      <td>141.0</td>\n",
       "      <td>5005.0</td>\n",
       "      <td>1.0</td>\n",
       "      <td>5005.0</td>\n",
       "    </tr>\n",
       "    <tr>\n",
       "      <th>3</th>\n",
       "      <td>97e03e47</td>\n",
       "      <td>41ee09f6</td>\n",
       "      <td>2022-09-12 16:20:22.110</td>\n",
       "      <td>4.5</td>\n",
       "      <td>35078.5</td>\n",
       "      <td>1.0</td>\n",
       "      <td>NaN</td>\n",
       "    </tr>\n",
       "    <tr>\n",
       "      <th>4</th>\n",
       "      <td>41949228</td>\n",
       "      <td>244fe6d8</td>\n",
       "      <td>2022-10-14 18:53:43.933</td>\n",
       "      <td>129.5</td>\n",
       "      <td>49291.5</td>\n",
       "      <td>5.0</td>\n",
       "      <td>NaN</td>\n",
       "    </tr>\n",
       "  </tbody>\n",
       "</table>\n",
       "</div>"
      ],
      "text/plain": [
       "    Main_ID Transaction_ID                     Date  Price  Code_Product  \\\n",
       "0  90fada91       264f7a69  2022-10-07 20:53:49.153  125.0        5002.0   \n",
       "1  9006f9ac       45c7d853  2022-09-17 15:54:57.187   19.0       35012.0   \n",
       "2  32270891       61ad76dd  2022-11-28 13:51:55.667  141.0        5005.0   \n",
       "3  97e03e47       41ee09f6  2022-09-12 16:20:22.110    4.5       35078.5   \n",
       "4  41949228       244fe6d8  2022-10-14 18:53:43.933  129.5       49291.5   \n",
       "\n",
       "   Amount  ItemKey  \n",
       "0     1.0   5002.0  \n",
       "1     1.0      NaN  \n",
       "2     1.0   5005.0  \n",
       "3     1.0      NaN  \n",
       "4     5.0      NaN  "
      ]
     },
     "execution_count": 3,
     "metadata": {},
     "output_type": "execute_result"
    }
   ],
   "source": [
    "recom_df = recom_df.drop('Unnamed: 0', axis=1)\n",
    "recom_df.head()"
   ]
  },
  {
   "cell_type": "code",
   "execution_count": 4,
   "id": "d752d9da-4e48-4a7e-b067-d5d65264c0b3",
   "metadata": {},
   "outputs": [
    {
     "data": {
      "text/plain": [
       "Index(['customer_id', 'transaction_id', 'date', 'price', 'product_id',\n",
       "       'quantity', 'item_id'],\n",
       "      dtype='object')"
      ]
     },
     "execution_count": 4,
     "metadata": {},
     "output_type": "execute_result"
    }
   ],
   "source": [
    "recom_df.columns = ['customer_id',\n",
    "                    'transaction_id',\n",
    "                    'date',\n",
    "                    'price',\n",
    "                    'product_id',\n",
    "                    'quantity',\n",
    "                    'item_id',\n",
    "                   ]\n",
    "recom_df.columns"
   ]
  },
  {
   "cell_type": "code",
   "execution_count": 5,
   "id": "e3a6ae95-66b0-405f-89dc-8cc5f18eaa7d",
   "metadata": {},
   "outputs": [
    {
     "data": {
      "text/html": [
       "<div>\n",
       "<style scoped>\n",
       "    .dataframe tbody tr th:only-of-type {\n",
       "        vertical-align: middle;\n",
       "    }\n",
       "\n",
       "    .dataframe tbody tr th {\n",
       "        vertical-align: top;\n",
       "    }\n",
       "\n",
       "    .dataframe thead th {\n",
       "        text-align: right;\n",
       "    }\n",
       "</style>\n",
       "<table border=\"1\" class=\"dataframe\">\n",
       "  <thead>\n",
       "    <tr style=\"text-align: right;\">\n",
       "      <th></th>\n",
       "      <th>customer_id</th>\n",
       "      <th>transaction_id</th>\n",
       "      <th>date</th>\n",
       "      <th>price</th>\n",
       "      <th>product_id</th>\n",
       "      <th>quantity</th>\n",
       "      <th>item_id</th>\n",
       "    </tr>\n",
       "  </thead>\n",
       "  <tbody>\n",
       "    <tr>\n",
       "      <th>43865</th>\n",
       "      <td>94ac83c7</td>\n",
       "      <td>a8260eae</td>\n",
       "      <td>2022-11-14 15:33:09.250</td>\n",
       "      <td>36.5</td>\n",
       "      <td>25003.5</td>\n",
       "      <td>1.0</td>\n",
       "      <td>25003.5</td>\n",
       "    </tr>\n",
       "    <tr>\n",
       "      <th>6973</th>\n",
       "      <td>c3a4f9c7</td>\n",
       "      <td>ac45635c</td>\n",
       "      <td>2022-11-04 15:11:57.527</td>\n",
       "      <td>21.5</td>\n",
       "      <td>49292.0</td>\n",
       "      <td>1.0</td>\n",
       "      <td>NaN</td>\n",
       "    </tr>\n",
       "    <tr>\n",
       "      <th>17733</th>\n",
       "      <td>f7941ae4</td>\n",
       "      <td>28fe53ef</td>\n",
       "      <td>2022-10-09 16:38:35.203</td>\n",
       "      <td>79.0</td>\n",
       "      <td>5000.5</td>\n",
       "      <td>2.0</td>\n",
       "      <td>5000.5</td>\n",
       "    </tr>\n",
       "    <tr>\n",
       "      <th>36147</th>\n",
       "      <td>d3689a1d</td>\n",
       "      <td>272cee07</td>\n",
       "      <td>2022-11-08 20:33:49.317</td>\n",
       "      <td>52.5</td>\n",
       "      <td>49292.0</td>\n",
       "      <td>1.0</td>\n",
       "      <td>NaN</td>\n",
       "    </tr>\n",
       "    <tr>\n",
       "      <th>24554</th>\n",
       "      <td>9b936372</td>\n",
       "      <td>146cf89a</td>\n",
       "      <td>2022-09-28 14:33:43.623</td>\n",
       "      <td>37.0</td>\n",
       "      <td>49291.5</td>\n",
       "      <td>1.0</td>\n",
       "      <td>NaN</td>\n",
       "    </tr>\n",
       "  </tbody>\n",
       "</table>\n",
       "</div>"
      ],
      "text/plain": [
       "      customer_id transaction_id                     date  price  product_id  \\\n",
       "43865    94ac83c7       a8260eae  2022-11-14 15:33:09.250   36.5     25003.5   \n",
       "6973     c3a4f9c7       ac45635c  2022-11-04 15:11:57.527   21.5     49292.0   \n",
       "17733    f7941ae4       28fe53ef  2022-10-09 16:38:35.203   79.0      5000.5   \n",
       "36147    d3689a1d       272cee07  2022-11-08 20:33:49.317   52.5     49292.0   \n",
       "24554    9b936372       146cf89a  2022-09-28 14:33:43.623   37.0     49291.5   \n",
       "\n",
       "       quantity  item_id  \n",
       "43865       1.0  25003.5  \n",
       "6973        1.0      NaN  \n",
       "17733       2.0   5000.5  \n",
       "36147       1.0      NaN  \n",
       "24554       1.0      NaN  "
      ]
     },
     "execution_count": 5,
     "metadata": {},
     "output_type": "execute_result"
    }
   ],
   "source": [
    "recom_df.sample(5)"
   ]
  },
  {
   "cell_type": "code",
   "execution_count": 6,
   "id": "f5b1dcf1-c061-46fa-b14d-72ff3a6870a3",
   "metadata": {},
   "outputs": [
    {
     "name": "stdout",
     "output_type": "stream",
     "text": [
      "<class 'pandas.core.frame.DataFrame'>\n",
      "RangeIndex: 50000 entries, 0 to 49999\n",
      "Data columns (total 7 columns):\n",
      " #   Column          Non-Null Count  Dtype  \n",
      "---  ------          --------------  -----  \n",
      " 0   customer_id     50000 non-null  object \n",
      " 1   transaction_id  50000 non-null  object \n",
      " 2   date            50000 non-null  object \n",
      " 3   price           50000 non-null  float64\n",
      " 4   product_id      50000 non-null  float64\n",
      " 5   quantity        50000 non-null  float64\n",
      " 6   item_id         28597 non-null  float64\n",
      "dtypes: float64(4), object(3)\n",
      "memory usage: 2.7+ MB\n"
     ]
    }
   ],
   "source": [
    "recom_df.info()"
   ]
  },
  {
   "cell_type": "code",
   "execution_count": 7,
   "id": "d00fae82-50a8-4d7d-884a-02432e456b44",
   "metadata": {},
   "outputs": [
    {
     "name": "stdout",
     "output_type": "stream",
     "text": [
      "<class 'pandas.core.frame.DataFrame'>\n",
      "RangeIndex: 50000 entries, 0 to 49999\n",
      "Data columns (total 7 columns):\n",
      " #   Column          Non-Null Count  Dtype         \n",
      "---  ------          --------------  -----         \n",
      " 0   customer_id     50000 non-null  object        \n",
      " 1   transaction_id  50000 non-null  object        \n",
      " 2   date            50000 non-null  datetime64[ns]\n",
      " 3   price           50000 non-null  float64       \n",
      " 4   product_id      50000 non-null  float64       \n",
      " 5   quantity        50000 non-null  float64       \n",
      " 6   item_id         50000 non-null  float64       \n",
      "dtypes: datetime64[ns](1), float64(4), object(2)\n",
      "memory usage: 2.7+ MB\n"
     ]
    }
   ],
   "source": [
    "# change date to datetime dtype\n",
    "recom_df['date'] = pd.to_datetime(recom_df['date'])\n",
    "\n",
    "# fill nan in item_id with product_id\n",
    "recom_df['item_id'] = recom_df['item_id'].fillna(recom_df['product_id'])\n",
    "\n",
    "recom_df.info()"
   ]
  },
  {
   "cell_type": "code",
   "execution_count": 8,
   "id": "72c16cd4-3acc-40e0-9ee2-acd9b939db3a",
   "metadata": {},
   "outputs": [
    {
     "name": "stdout",
     "output_type": "stream",
     "text": [
      "Empty DataFrame\n",
      "Columns: [customer_id, transaction_id, date, price, product_id, quantity, item_id]\n",
      "Index: []\n"
     ]
    }
   ],
   "source": [
    "# check differences between product_id and item_id\n",
    "\n",
    "# Filter the DataFrame to find rows where 'item_id' is not equal to 'product_id'\n",
    "diff_instances = recom_df.query(\"item_id != product_id\")\n",
    "\n",
    "# Optionally, display the result\n",
    "print(diff_instances)"
   ]
  },
  {
   "cell_type": "code",
   "execution_count": 20,
   "id": "91996fa4-5ff9-4130-b641-251fe6dce0b1",
   "metadata": {},
   "outputs": [],
   "source": [
    "# drop item_id\n",
    "recom_df = recom_df.drop('item_id', axis = 1)"
   ]
  },
  {
   "cell_type": "code",
   "execution_count": 21,
   "id": "364a6944-1b7c-4365-88bc-dd1d768c009f",
   "metadata": {
    "scrolled": true
   },
   "outputs": [
    {
     "data": {
      "text/plain": [
       "customer_id\n",
       "751131ee    51\n",
       "734264e5    47\n",
       "d0778daf    39\n",
       "6b00f3c8    36\n",
       "c33b52b6    36\n",
       "            ..\n",
       "2e767579     1\n",
       "09b7ef0f     1\n",
       "4ac511e8     1\n",
       "56083fd2     1\n",
       "51288e74     1\n",
       "Name: count, Length: 28514, dtype: int64"
      ]
     },
     "execution_count": 21,
     "metadata": {},
     "output_type": "execute_result"
    }
   ],
   "source": [
    "recom_df['customer_id'].value_counts()"
   ]
  },
  {
   "cell_type": "code",
   "execution_count": 22,
   "id": "8181f0ab-e67e-40a4-93ee-c854336508d0",
   "metadata": {},
   "outputs": [
    {
     "data": {
      "text/plain": [
       "product_id\n",
       "49292.0     4862\n",
       "49291.5     4694\n",
       "5000.5      3814\n",
       "45004.0     3071\n",
       "10013.0     1572\n",
       "            ... \n",
       "165033.0       1\n",
       "40052.5        1\n",
       "20034.0        1\n",
       "48590.0        1\n",
       "35008.0        1\n",
       "Name: count, Length: 333, dtype: int64"
      ]
     },
     "execution_count": 22,
     "metadata": {},
     "output_type": "execute_result"
    }
   ],
   "source": [
    "recom_df['product_id'].value_counts()"
   ]
  },
  {
   "cell_type": "code",
   "execution_count": 23,
   "id": "11e20595-4fae-4c87-800f-457912b08fdd",
   "metadata": {},
   "outputs": [
    {
     "name": "stdout",
     "output_type": "stream",
     "text": [
      "Pairwise Pearson Correlation Matrix:\n",
      "product_id  5000.5    5001.0    5001.5    5002.0    5002.5    5003.0    \\\n",
      "product_id                                                               \n",
      "5000.5      1.000000  0.153768  0.084167  0.136879 -0.003353  0.002358   \n",
      "5001.0      0.153768  1.000000  0.063253  0.140715 -0.001517  0.000559   \n",
      "5001.5      0.084167  0.063253  1.000000  0.038621 -0.001557  0.007257   \n",
      "5002.0      0.136879  0.140715  0.038621  1.000000 -0.001741  0.019406   \n",
      "5002.5     -0.003353 -0.001517 -0.001557 -0.001741  1.000000 -0.000407   \n",
      "\n",
      "product_id  5004.0    5004.5    5005.0    5007.0    ...  200035.5  200037.0  \\\n",
      "product_id                                          ...                       \n",
      "5000.5     -0.003475  0.051860  0.044544  0.032989  ... -0.005366 -0.002499   \n",
      "5001.0     -0.002629  0.063205  0.134752  0.039826  ... -0.002428 -0.001131   \n",
      "5001.5      0.007319  0.002618  0.020729  0.060464  ... -0.002492 -0.001161   \n",
      "5002.0     -0.003016  0.044679  0.027020  0.010047  ... -0.002786 -0.001298   \n",
      "5002.5     -0.000304 -0.000584 -0.000366 -0.000374  ... -0.000281 -0.000131   \n",
      "\n",
      "product_id  200037.5  200038.0  200038.5  200045.5  200046.0  200046.5  \\\n",
      "product_id                                                               \n",
      "5000.5     -0.003893 -0.001500 -0.002121 -0.003485 -0.003674 -0.001500   \n",
      "5001.0     -0.001761 -0.000679 -0.000960 -0.001577 -0.001662 -0.000679   \n",
      "5001.5     -0.001808 -0.000696 -0.000985 -0.001618 -0.001706 -0.000696   \n",
      "5002.0     -0.002021 -0.000779 -0.001101 -0.001809 -0.001907 -0.000779   \n",
      "5002.5     -0.000204 -0.000078 -0.000111 -0.000182 -0.000192 -0.000078   \n",
      "\n",
      "product_id  200047.0  350027.5  \n",
      "product_id                      \n",
      "5000.5     -0.001500 -0.002121  \n",
      "5001.0     -0.000679 -0.000960  \n",
      "5001.5     -0.000696 -0.000985  \n",
      "5002.0     -0.000779 -0.001101  \n",
      "5002.5     -0.000078 -0.000111  \n",
      "\n",
      "[5 rows x 333 columns]\n",
      "Cosine Similarity Matrix:\n",
      "product_id  5000.5    5001.0    5001.5    5002.0    5002.5    5003.0    \\\n",
      "product_id                                                               \n",
      "5000.5      1.000000  0.176035  0.109702  0.163554       0.0  0.009817   \n",
      "5001.0      0.176035  1.000000  0.075706  0.153444       0.0  0.004047   \n",
      "5001.5      0.109702  0.075706  1.000000  0.053252       0.0  0.010787   \n",
      "5002.0      0.163554  0.153444  0.053252  1.000000       0.0  0.023231   \n",
      "5002.5      0.000000  0.000000  0.000000  0.000000       1.0  0.000000   \n",
      "\n",
      "product_id  5004.0    5004.5    5005.0    5007.0    ...  200035.5  200037.0  \\\n",
      "product_id                                          ...                       \n",
      "5000.5      0.002263  0.061030  0.049954  0.038898  ...       0.0       0.0   \n",
      "5001.0      0.000000  0.067744  0.136973  0.042766  ...       0.0       0.0   \n",
      "5001.5      0.009945  0.007738  0.023809  0.063324  ...       0.0       0.0   \n",
      "5002.0      0.000000  0.049993  0.030384  0.013637  ...       0.0       0.0   \n",
      "5002.5      0.000000  0.000000  0.000000  0.000000  ...       0.0       0.0   \n",
      "\n",
      "product_id  200037.5  200038.0  200038.5  200045.5  200046.0  200046.5  \\\n",
      "product_id                                                               \n",
      "5000.5           0.0       0.0       0.0       0.0       0.0       0.0   \n",
      "5001.0           0.0       0.0       0.0       0.0       0.0       0.0   \n",
      "5001.5           0.0       0.0       0.0       0.0       0.0       0.0   \n",
      "5002.0           0.0       0.0       0.0       0.0       0.0       0.0   \n",
      "5002.5           0.0       0.0       0.0       0.0       0.0       0.0   \n",
      "\n",
      "product_id  200047.0  350027.5  \n",
      "product_id                      \n",
      "5000.5           0.0       0.0  \n",
      "5001.0           0.0       0.0  \n",
      "5001.5           0.0       0.0  \n",
      "5002.0           0.0       0.0  \n",
      "5002.5           0.0       0.0  \n",
      "\n",
      "[5 rows x 333 columns]\n"
     ]
    }
   ],
   "source": [
    "from sklearn.metrics.pairwise import cosine_similarity\n",
    "\n",
    "# Assume recom_df is already loaded and has the proper dtypes\n",
    "\n",
    "# 1. Create an item-user pivot table:\n",
    "#    Rows are customers, columns are items, and values are total quantity purchased.\n",
    "item_user_matrix = recom_df.pivot_table(\n",
    "    index='customer_id', \n",
    "    columns='product_id', \n",
    "    values='quantity', \n",
    "    aggfunc='sum', \n",
    "    fill_value=0\n",
    ")\n",
    "\n",
    "# 2. Compute the pairwise Pearson correlation matrix between items.\n",
    "#    This will give you a DataFrame where each cell [i, j] represents the correlation between item i and item j.\n",
    "pairwise_corr = item_user_matrix.corr(method='pearson')\n",
    "print(\"Pairwise Pearson Correlation Matrix:\")\n",
    "print(pairwise_corr.head())\n",
    "\n",
    "# 3. Compute the cosine similarity matrix between items.\n",
    "#    Since the item vectors are in the columns, we need to take the transpose.\n",
    "cosine_sim = cosine_similarity(item_user_matrix.T)\n",
    "# Convert the result into a DataFrame for easier interpretation.\n",
    "cosine_sim_matrix = pd.DataFrame(\n",
    "    cosine_sim, \n",
    "    index=item_user_matrix.columns, \n",
    "    columns=item_user_matrix.columns\n",
    ")\n",
    "print(\"Cosine Similarity Matrix:\")\n",
    "print(cosine_sim_matrix.head())\n"
   ]
  },
  {
   "cell_type": "code",
   "execution_count": 16,
   "id": "73d492e0-6d34-43a1-abd0-1cf285f5e662",
   "metadata": {},
   "outputs": [
    {
     "data": {
      "text/plain": [
       "(333, 333)"
      ]
     },
     "execution_count": 16,
     "metadata": {},
     "output_type": "execute_result"
    }
   ],
   "source": [
    "pairwise_corr.shape"
   ]
  },
  {
   "cell_type": "code",
   "execution_count": 17,
   "id": "653683f3-4d04-4134-b028-bb9169bee35b",
   "metadata": {},
   "outputs": [
    {
     "data": {
      "text/plain": [
       "(333, 333)"
      ]
     },
     "execution_count": 17,
     "metadata": {},
     "output_type": "execute_result"
    }
   ],
   "source": [
    "cosine_sim_matrix.shape"
   ]
  },
  {
   "cell_type": "code",
   "execution_count": 24,
   "id": "2871bf6a-08b9-4ba8-9246-bbcb7b4267d7",
   "metadata": {},
   "outputs": [
    {
     "name": "stdout",
     "output_type": "stream",
     "text": [
      "<class 'pandas.core.frame.DataFrame'>\n",
      "RangeIndex: 50000 entries, 0 to 49999\n",
      "Data columns (total 6 columns):\n",
      " #   Column          Non-Null Count  Dtype         \n",
      "---  ------          --------------  -----         \n",
      " 0   customer_id     50000 non-null  object        \n",
      " 1   transaction_id  50000 non-null  object        \n",
      " 2   date            50000 non-null  datetime64[ns]\n",
      " 3   price           50000 non-null  float64       \n",
      " 4   product_id      50000 non-null  float64       \n",
      " 5   quantity        50000 non-null  float64       \n",
      "dtypes: datetime64[ns](1), float64(3), object(2)\n",
      "memory usage: 2.3+ MB\n"
     ]
    }
   ],
   "source": [
    "recom_df.info()"
   ]
  },
  {
   "cell_type": "code",
   "execution_count": 26,
   "id": "87765457-7964-4fa8-8fd6-f635727439e3",
   "metadata": {},
   "outputs": [
    {
     "data": {
      "text/plain": [
       "(Timestamp('2022-12-03 02:14:57.983000'),\n",
       " Timestamp('2022-08-26 00:00:14.643000'))"
      ]
     },
     "execution_count": 26,
     "metadata": {},
     "output_type": "execute_result"
    }
   ],
   "source": [
    "recom_df['date'].max(), recom_df['date'].min()"
   ]
  },
  {
   "cell_type": "code",
   "execution_count": 27,
   "id": "27905563-da6e-4e6c-8946-d5f4fd6fcd0b",
   "metadata": {},
   "outputs": [
    {
     "name": "stdout",
     "output_type": "stream",
     "text": [
      "  customer_id  product_id       ds_last_purchased  frequency\n",
      "0    00024de6     35097.0 2022-09-03 15:12:52.607        2.0\n",
      "1    00084856     49291.5 2022-11-05 15:08:11.743        1.0\n",
      "2    00084856     49292.0 2022-10-21 16:40:07.373        1.0\n",
      "3    0008e848     40002.0 2022-09-13 19:34:10.853        1.0\n",
      "4    00096930     49291.5 2022-11-25 20:13:57.747        2.0\n"
     ]
    }
   ],
   "source": [
    "# Group by both customer_id and product_id, then aggregate:\n",
    "# - ds_last_purchased: maximum date for each group\n",
    "# - frequency: total quantity purchased for each group\n",
    "customer_activities = (\n",
    "    recom_df.groupby(['customer_id', 'product_id'])\n",
    "            .agg(ds_last_purchased=('date', 'max'),\n",
    "                 frequency=('quantity', 'sum'))\n",
    "            .reset_index()\n",
    ")\n",
    "\n",
    "# Sort by customer_id ascending and frequency descending\n",
    "customer_activities = customer_activities.sort_values(\n",
    "    by=['customer_id', 'frequency'], ascending=[True, False]\n",
    ")\n",
    "\n",
    "# Display the result\n",
    "print(customer_activities.head())"
   ]
  },
  {
   "cell_type": "code",
   "execution_count": 28,
   "id": "0ecc04fd-0ef1-4438-a8dd-bcaf42df71f1",
   "metadata": {},
   "outputs": [
    {
     "name": "stdout",
     "output_type": "stream",
     "text": [
      "   product_id  price\n",
      "0      5002.0  125.0\n",
      "1     35012.0   19.0\n",
      "2      5005.0  141.0\n",
      "3     35078.5    4.5\n",
      "4     49291.5  129.5\n"
     ]
    }
   ],
   "source": [
    "# Extract unique product_id and price combinations\n",
    "products = recom_df[['product_id', 'price']].drop_duplicates().reset_index(drop=True)\n",
    "\n",
    "# Display the resulting table\n",
    "print(products.head())"
   ]
  },
  {
   "cell_type": "code",
   "execution_count": null,
   "id": "8faa60d7-bbff-4e79-89cb-e1b9cf2499e9",
   "metadata": {},
   "outputs": [],
   "source": []
  }
 ],
 "metadata": {
  "kernelspec": {
   "display_name": "Python (magpenv)",
   "language": "python",
   "name": "magpenv"
  },
  "language_info": {
   "codemirror_mode": {
    "name": "ipython",
    "version": 3
   },
   "file_extension": ".py",
   "mimetype": "text/x-python",
   "name": "python",
   "nbconvert_exporter": "python",
   "pygments_lexer": "ipython3",
   "version": "3.12.3"
  }
 },
 "nbformat": 4,
 "nbformat_minor": 5
}
