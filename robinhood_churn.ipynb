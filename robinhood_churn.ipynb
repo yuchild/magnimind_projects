{
 "cells": [
  {
   "cell_type": "markdown",
   "id": "a3f416dd-9f7d-4d5c-98f8-60d9c86c7c82",
   "metadata": {},
   "source": [
    "### Churn @ Robinhood\n",
    "#### Load Libraries and Data"
   ]
  },
  {
   "cell_type": "code",
   "execution_count": null,
   "id": "db448b89-e3eb-4152-b27d-88017574821c",
   "metadata": {},
   "outputs": [],
   "source": [
    "from numba import cuda \n",
    "print(cuda.detect())"
   ]
  },
  {
   "cell_type": "code",
   "execution_count": null,
   "id": "6188b919-7526-4909-ab1e-62af0eac877b",
   "metadata": {},
   "outputs": [],
   "source": [
    "import cudf as cf\n",
    "equity_df_raw = cf.read_csv('./data/equity_value_data.csv')\n",
    "features_df_raw = cf.read_csv('./data/features_data.csv')\n",
    "\n",
    "equity_df = equity_df_raw.copy()\n",
    "features_df = features_df_raw.copy()"
   ]
  },
  {
   "cell_type": "code",
   "execution_count": null,
   "id": "0b5d0bf5-595b-4bd2-8492-a42f0005f0db",
   "metadata": {},
   "outputs": [],
   "source": [
    "equity_df.info()"
   ]
  },
  {
   "cell_type": "code",
   "execution_count": null,
   "id": "e05d2f14-be89-4fd4-9e7d-025df85522b5",
   "metadata": {},
   "outputs": [],
   "source": []
  },
  {
   "cell_type": "code",
   "execution_count": null,
   "id": "72b93a2e-9529-4e93-a6de-50a747649a3c",
   "metadata": {},
   "outputs": [],
   "source": [
    "features_df.info()"
   ]
  },
  {
   "cell_type": "markdown",
   "id": "0433abdc-8453-42e0-ab0f-1ec3b1c802a6",
   "metadata": {},
   "source": [
    "#### a). What percentage of users have churned in the data?\n",
    "A user is *churned* when their equity falls below 10 usd for 28 consecutive calendar days or longer having perviously been at least 10 usd"
   ]
  },
  {
   "cell_type": "code",
   "execution_count": null,
   "id": "09e65c4e-4ebf-49bd-b051-4f709ed91887",
   "metadata": {},
   "outputs": [],
   "source": [
    "# to ensure timestamp is datetime\n",
    "equity_df['timestamp'] = cf.to_datetime(equity_df['timestamp']).copy() \n",
    "\n",
    "# Sort Values by user_id and timestamp\n",
    "equity_df = equitydf.sort_values(['user_id', 'timestamp']).copy()\n",
    "\n",
    "# Flag close_equity below 10 dollars\n",
    "equity_df['below_10'] = (equity_df['close_equity'] < 10).astype(int).copy()\n",
    "\n",
    "# Compute rolling 28-day windows for each user\n",
    "equity_df['below_10_28d'] = equity_df.groupby('user_id')['below_10'].rolling(window=28, min_periods=28).sum().reset_index(0,drop=True).copy()\n",
    "\n",
    "# Identify churn accounts\n",
    "equity_df['churn'] = (equity_df['below_10_28d'] == 28).astype(int).copy()\n",
    "\n",
    "# Ensure customer previously had >= 10 dollars\n",
    "equity_df['above_10_before'] = equity_df.groupby('user_id')['close_equity'].transform(lambda x: (x>= 10).any()).copy()\n",
    "\n",
    "# Filter churned customers\n",
    "churned_users = equity_df.loc[(equity_df['churn'] == 1) & (equity_df['above_10_before']), 'user_id'].uniqe().copy()\n",
    "\n",
    "# Calculate churn percentage\n",
    "total_users = equity_df['user_id'].nunique()\n",
    "churned_percentage = (len(churned_users) / total_users) * 100\n",
    "\n",
    "print(f'Percent churned: {churned_percentage:.2f}%')"
   ]
  },
  {
   "cell_type": "code",
   "execution_count": null,
   "id": "91385a56-c5ed-45f2-abb1-30d3bd85ff6f",
   "metadata": {},
   "outputs": [],
   "source": []
  }
 ],
 "metadata": {
  "kernelspec": {
   "display_name": "Python (magpenv)",
   "language": "python",
   "name": "magpenv"
  },
  "language_info": {
   "codemirror_mode": {
    "name": "ipython",
    "version": 3
   },
   "file_extension": ".py",
   "mimetype": "text/x-python",
   "name": "python",
   "nbconvert_exporter": "python",
   "pygments_lexer": "ipython3",
   "version": "3.12.3"
  }
 },
 "nbformat": 4,
 "nbformat_minor": 5
}
