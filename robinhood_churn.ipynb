{
 "cells": [
  {
   "cell_type": "markdown",
   "id": "a3f416dd-9f7d-4d5c-98f8-60d9c86c7c82",
   "metadata": {},
   "source": [
    "### Churn @ Robinhood\n",
    "#### Load Libraries and Data"
   ]
  },
  {
   "cell_type": "code",
   "execution_count": 1,
   "id": "db448b89-e3eb-4152-b27d-88017574821c",
   "metadata": {},
   "outputs": [
    {
     "name": "stdout",
     "output_type": "stream",
     "text": [
      "Available GPUs: <Managed Device 0>\n"
     ]
    }
   ],
   "source": [
    "from numba import cuda\n",
    "\n",
    "try:\n",
    "    print(\"Available GPUs:\", cuda.gpus)\n",
    "except cuda.CudaSupportError as e:\n",
    "    print(\"CUDA Error:\", e)"
   ]
  },
  {
   "cell_type": "code",
   "execution_count": 2,
   "id": "6188b919-7526-4909-ab1e-62af0eac877b",
   "metadata": {},
   "outputs": [],
   "source": [
    "import cudf as cf\n",
    "equity_df_raw = cf.read_csv('./data/equity_value_data.csv')\n",
    "features_df_raw = cf.read_csv('./data/features_data.csv')\n",
    "\n",
    "equity_df = equity_df_raw.copy()\n",
    "features_df = features_df_raw.copy()"
   ]
  },
  {
   "cell_type": "code",
   "execution_count": 3,
   "id": "0b5d0bf5-595b-4bd2-8492-a42f0005f0db",
   "metadata": {},
   "outputs": [
    {
     "name": "stdout",
     "output_type": "stream",
     "text": [
      "<class 'cudf.core.dataframe.DataFrame'>\n",
      "RangeIndex: 1119158 entries, 0 to 1119157\n",
      "Data columns (total 3 columns):\n",
      " #   Column        Non-Null Count    Dtype\n",
      "---  ------        --------------    -----\n",
      " 0   timestamp     1119158 non-null  object\n",
      " 1   close_equity  1119158 non-null  float64\n",
      " 2   user_id       1119158 non-null  object\n",
      "dtypes: float64(1), object(2)\n",
      "memory usage: 72.6+ MB\n"
     ]
    }
   ],
   "source": [
    "equity_df.info()"
   ]
  },
  {
   "cell_type": "code",
   "execution_count": 4,
   "id": "72b93a2e-9529-4e93-a6de-50a747649a3c",
   "metadata": {},
   "outputs": [
    {
     "name": "stdout",
     "output_type": "stream",
     "text": [
      "<class 'cudf.core.dataframe.DataFrame'>\n",
      "RangeIndex: 5584 entries, 0 to 5583\n",
      "Data columns (total 9 columns):\n",
      " #   Column                        Non-Null Count  Dtype\n",
      "---  ------                        --------------  -----\n",
      " 0   risk_tolerance                5584 non-null   object\n",
      " 1   investment_experience         5584 non-null   object\n",
      " 2   liquidity_needs               5584 non-null   object\n",
      " 3   platform                      5584 non-null   object\n",
      " 4   time_spent                    5584 non-null   float64\n",
      " 5   instrument_type_first_traded  5584 non-null   object\n",
      " 6   first_deposit_amount          5584 non-null   float64\n",
      " 7   time_horizon                  5584 non-null   object\n",
      " 8   user_id                       5584 non-null   object\n",
      "dtypes: float64(2), object(7)\n",
      "memory usage: 896.8+ KB\n"
     ]
    }
   ],
   "source": [
    "features_df.info()"
   ]
  },
  {
   "cell_type": "markdown",
   "id": "0433abdc-8453-42e0-ab0f-1ec3b1c802a6",
   "metadata": {},
   "source": [
    "#### a). What percentage of users have churned in the data?\n",
    "A user is *churned* when their equity falls below 10 usd for 28 consecutive calendar days or longer having perviously been at least 10 usd"
   ]
  },
  {
   "cell_type": "code",
   "execution_count": 5,
   "id": "09e65c4e-4ebf-49bd-b051-4f709ed91887",
   "metadata": {},
   "outputs": [
    {
     "name": "stdout",
     "output_type": "stream",
     "text": [
      "user_max_equity:\n",
      "                            user_id  max_equity\n",
      "0  5fd4a01d324f8d20eaa2c43809e9f948    748.3000\n",
      "1  d10f9f7ac787d96a3ae3880a95e90468   7222.8105\n",
      "2  c06642abdd9bc364efc158190d537f6f   9995.0000\n",
      "3  88905c55ea6570090f5bf731ea6e2f68   1856.3828\n",
      "4  fb35f2d4f7bd6c9e4085856fe14e8d89   1001.1900\n",
      "equity_df after merge:\n",
      "   timestamp  close_equity                           user_id  below_10  \\\n",
      "0 2017-07-11       72.5348  00440034cc4152bfb01b30f5c381c4e3         0   \n",
      "1 2017-07-12       72.2840  00440034cc4152bfb01b30f5c381c4e3         0   \n",
      "2 2017-07-13       74.3668  00440034cc4152bfb01b30f5c381c4e3         0   \n",
      "3 2017-07-14       72.4600  00440034cc4152bfb01b30f5c381c4e3         0   \n",
      "4 2017-07-17       71.9420  00440034cc4152bfb01b30f5c381c4e3         0   \n",
      "\n",
      "   below_10_28d  churn  max_equity  \n",
      "0             0      0        86.8  \n",
      "1             0      0        86.8  \n",
      "2             0      0        86.8  \n",
      "3             0      0        86.8  \n",
      "4             0      0        86.8  \n",
      "Index(['timestamp', 'close_equity', 'user_id', 'below_10', 'below_10_28d',\n",
      "       'churn', 'max_equity'],\n",
      "      dtype='object')\n",
      "Percent churned: 0.00%\n"
     ]
    }
   ],
   "source": [
    "# to ensure timestamp is datetime\n",
    "equity_df['timestamp'] = cf.to_datetime(equity_df['timestamp']).copy() \n",
    "\n",
    "# Sort Values by user_id and timestamp\n",
    "equity_df = equity_df.sort_values(['user_id', 'timestamp']).copy()\n",
    "\n",
    "# Flag close_equity below 10 dollars\n",
    "equity_df['below_10'] = (equity_df['close_equity'] < 10).astype(int).copy()\n",
    "\n",
    "# Compute rolling 28-day windows for each user\n",
    "equity_df['below_10_28d'] = equity_df.groupby('user_id')['below_10'].rolling(window=28, min_periods=28).sum().reset_index(0,drop=True).copy()\n",
    "\n",
    "# Identify churn accounts\n",
    "equity_df['churn'] = (equity_df['below_10_28d'] == 28).astype(int).copy()\n",
    "\n",
    "# Ensure customer previously had >= 10 dollars\n",
    "# Group by 'user_id' and find the max close_equity for each user\n",
    "user_max_equity = equity_df.groupby('user_id')['close_equity'].max().reset_index()\n",
    "user_max_equity.rename(columns={\"close_equity\": \"max_equity\"}, inplace=True)\n",
    "\n",
    "print(\"user_max_equity:\")\n",
    "print(user_max_equity.head())\n",
    "\n",
    "# Merge back into the original DataFrame\n",
    "equity_df['user_id'] = equity_df['user_id'].astype(str)\n",
    "user_max_equity['user_id'] = user_max_equity['user_id'].astype(str)\n",
    "\n",
    "equity_df = equity_df.merge(user_max_equity, on=\"user_id\", how=\"left\")\n",
    "\n",
    "print(\"equity_df after merge:\")\n",
    "print(equity_df.head())\n",
    "print(equity_df.columns)\n",
    "\n",
    "# Add a flag for users who had close_equity >= 10 at some point\n",
    "equity_df['above_10_before'] = (equity_df['max_equity'] >= 10.0).astype(int)\n",
    "\n",
    "# Filter churned customers\n",
    "churned_users = equity_df.loc[(equity_df['churn'] == 1) & (equity_df['above_10_before'] == 1), 'user_id'].unique().copy()\n",
    "\n",
    "# Calculate churn percentage\n",
    "total_users = equity_df['user_id'].nunique()\n",
    "churned_percentage = (len(churned_users) / total_users) * 100\n",
    "\n",
    "print(f'Percent churned: {churned_percentage:.2f}%')"
   ]
  },
  {
   "cell_type": "code",
   "execution_count": null,
   "id": "91385a56-c5ed-45f2-abb1-30d3bd85ff6f",
   "metadata": {},
   "outputs": [],
   "source": []
  }
 ],
 "metadata": {
  "kernelspec": {
   "display_name": "Python (magpenv)",
   "language": "python",
   "name": "magpenv"
  },
  "language_info": {
   "codemirror_mode": {
    "name": "ipython",
    "version": 3
   },
   "file_extension": ".py",
   "mimetype": "text/x-python",
   "name": "python",
   "nbconvert_exporter": "python",
   "pygments_lexer": "ipython3",
   "version": "3.12.3"
  }
 },
 "nbformat": 4,
 "nbformat_minor": 5
}
