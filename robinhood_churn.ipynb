{
 "cells": [
  {
   "cell_type": "markdown",
   "id": "a3f416dd-9f7d-4d5c-98f8-60d9c86c7c82",
   "metadata": {},
   "source": [
    "### Churn @ Robinhood\n",
    "#### Load Libraries and Data"
   ]
  },
  {
   "cell_type": "code",
   "execution_count": 1,
   "id": "db448b89-e3eb-4152-b27d-88017574821c",
   "metadata": {},
   "outputs": [
    {
     "name": "stdout",
     "output_type": "stream",
     "text": [
      "Available GPUs: <Managed Device 0>\n"
     ]
    }
   ],
   "source": [
    "from numba import cuda\n",
    "\n",
    "try:\n",
    "    print(\"Available GPUs:\", cuda.gpus)\n",
    "except cuda.CudaSupportError as e:\n",
    "    print(\"CUDA Error:\", e)"
   ]
  },
  {
   "cell_type": "code",
   "execution_count": 2,
   "id": "6188b919-7526-4909-ab1e-62af0eac877b",
   "metadata": {},
   "outputs": [],
   "source": [
    "import cudf as cf\n",
    "equity_df_raw = cf.read_csv('./data/equity_value_data.csv')\n",
    "features_df_raw = cf.read_csv('./data/features_data.csv')\n",
    "\n",
    "equity_df = equity_df_raw.copy()\n",
    "features_df = features_df_raw.copy()"
   ]
  },
  {
   "cell_type": "code",
   "execution_count": 3,
   "id": "0b5d0bf5-595b-4bd2-8492-a42f0005f0db",
   "metadata": {},
   "outputs": [
    {
     "name": "stdout",
     "output_type": "stream",
     "text": [
      "<class 'cudf.core.dataframe.DataFrame'>\n",
      "RangeIndex: 1119158 entries, 0 to 1119157\n",
      "Data columns (total 3 columns):\n",
      " #   Column        Non-Null Count    Dtype\n",
      "---  ------        --------------    -----\n",
      " 0   timestamp     1119158 non-null  object\n",
      " 1   close_equity  1119158 non-null  float64\n",
      " 2   user_id       1119158 non-null  object\n",
      "dtypes: float64(1), object(2)\n",
      "memory usage: 72.6+ MB\n"
     ]
    }
   ],
   "source": [
    "equity_df.info()"
   ]
  },
  {
   "cell_type": "code",
   "execution_count": 4,
   "id": "72b93a2e-9529-4e93-a6de-50a747649a3c",
   "metadata": {},
   "outputs": [
    {
     "name": "stdout",
     "output_type": "stream",
     "text": [
      "<class 'cudf.core.dataframe.DataFrame'>\n",
      "RangeIndex: 5584 entries, 0 to 5583\n",
      "Data columns (total 9 columns):\n",
      " #   Column                        Non-Null Count  Dtype\n",
      "---  ------                        --------------  -----\n",
      " 0   risk_tolerance                5584 non-null   object\n",
      " 1   investment_experience         5584 non-null   object\n",
      " 2   liquidity_needs               5584 non-null   object\n",
      " 3   platform                      5584 non-null   object\n",
      " 4   time_spent                    5584 non-null   float64\n",
      " 5   instrument_type_first_traded  5584 non-null   object\n",
      " 6   first_deposit_amount          5584 non-null   float64\n",
      " 7   time_horizon                  5584 non-null   object\n",
      " 8   user_id                       5584 non-null   object\n",
      "dtypes: float64(2), object(7)\n",
      "memory usage: 896.8+ KB\n"
     ]
    }
   ],
   "source": [
    "features_df.info()"
   ]
  },
  {
   "cell_type": "code",
   "execution_count": null,
   "id": "8e7a2fa4-dcd6-432b-954d-2e6c42ef4d61",
   "metadata": {},
   "outputs": [],
   "source": []
  },
  {
   "cell_type": "code",
   "execution_count": null,
   "id": "03e544ae-b183-4f9e-adfe-ebab41876a79",
   "metadata": {},
   "outputs": [],
   "source": []
  },
  {
   "cell_type": "code",
   "execution_count": null,
   "id": "857d9399-b5a2-4db5-89a4-bf9f5f026531",
   "metadata": {},
   "outputs": [],
   "source": []
  },
  {
   "cell_type": "markdown",
   "id": "0433abdc-8453-42e0-ab0f-1ec3b1c802a6",
   "metadata": {},
   "source": [
    "#### a). What percentage of users have churned in the data?\n",
    "A user is *churned* when their equity falls below 10 usd for 28 consecutive calendar days or longer having perviously been at least 10 usd\n",
    "\n",
    "**NOTE** Since no equities falls under 10 usd, threshold is set to a variable usd instead"
   ]
  },
  {
   "cell_type": "code",
   "execution_count": 5,
   "id": "09e65c4e-4ebf-49bd-b051-4f709ed91887",
   "metadata": {},
   "outputs": [
    {
     "name": "stdout",
     "output_type": "stream",
     "text": [
      "Churned Percentage: 1.58%\n",
      "\n",
      "Churned Users: 0     030f4ca7bb7bf14fe5a442b9bffc19e8\n",
      "1     0503b35d3715f13fec0a6b7319a32a4f\n",
      "2     08c81465c35d7b5208f4c14bd5bcc3bb\n",
      "3     0c29d08eaf4a53f9c33218de00371311\n",
      "4     0ee1c5d34c5d6bc0af382cc51eabea5c\n",
      "                    ...               \n",
      "83    f0b60bf9e2ceba027dc1f67d0152f4fa\n",
      "84    f1c5f7bb83a2e6b0afe7d718cde09e1d\n",
      "85    f55741ace6b614e9017a6b6e19367a7f\n",
      "86    f9e3f4295ec8017a75ffed3184bc9ce6\n",
      "87    fc3e52dfa44438cd91838b1f48b7e57a\n",
      "Name: user_id, Length: 88, dtype: object\n",
      "\n",
      "Total Users: 5584\n",
      "\n"
     ]
    }
   ],
   "source": [
    "# Set threshold\n",
    "thresh = 12\n",
    "\n",
    "# Step 1: Ensure the timestamp column is datetime and sort the data\n",
    "equity_df['timestamp'] = cf.to_datetime(equity_df['timestamp'])\n",
    "equity_df = equity_df.sort_values(['user_id', 'timestamp'])\n",
    "\n",
    "# Step 2: Flag close_equity below threshold\n",
    "equity_df[f'below_{thresh}'] = (equity_df['close_equity'] < thresh).astype(int)\n",
    "\n",
    "# Step 3: Compute rolling 28-day windows for each user\n",
    "equity_df[f'below_{thresh}_28d'] = equity_df.groupby('user_id')[f'below_{thresh}'].rolling(window=28, min_periods=28).sum().reset_index(0, drop=True)\n",
    "\n",
    "# Step 4: Identify churn (continuous 28 days below $11)\n",
    "equity_df['churn'] = (equity_df[f'below_{thresh}_28d'] == 28).astype(int).copy()\n",
    "\n",
    "# Step 5: Check if the user ever had close_equity >= 11\n",
    "# Group by 'user_id' to find the max close_equity\n",
    "user_max_equity = equity_df.groupby('user_id')['close_equity'].max().reset_index()\n",
    "user_max_equity.rename(columns={\"close_equity\": \"max_equity\"}, inplace=True)\n",
    "\n",
    "# Merge back to associate max_equity with each user_id in the main DataFrame\n",
    "equity_df = equity_df.merge(user_max_equity, on=\"user_id\", how=\"left\")\n",
    "\n",
    "# Add a flag for users who had close_equity >= 11 at some point\n",
    "equity_df[f'above_{thresh}_before'] = (equity_df['max_equity'] >= thresh).astype(int)\n",
    "\n",
    "# Step 6: Filter churned users\n",
    "churned_users = equity_df.loc[\n",
    "    (equity_df['churn'] == 1) & (equity_df[f'above_{thresh}_before'] == 1),\n",
    "    'user_id'\n",
    "].unique()\n",
    "\n",
    "# Step 7: Calculate the churn percentage\n",
    "total_users = equity_df['user_id'].nunique()\n",
    "churn_percentage = (len(churned_users) / total_users) * 100\n",
    "\n",
    "print(f\"Churned Percentage: {churn_percentage:.2f}%\\n\")\n",
    "print(f\"Churned Users: {churned_users}\\n\")\n",
    "print(f\"Total Users: {total_users}\\n\")"
   ]
  },
  {
   "cell_type": "markdown",
   "id": "77d55fca-a987-4a77-b890-877903a4334e",
   "metadata": {},
   "source": [
    "b). Build a classifier given a user with their features assigns a churn probability for every user and predicts which users will churn"
   ]
  },
  {
   "cell_type": "code",
   "execution_count": 6,
   "id": "2dd97237-dcab-4c73-95aa-a5c413508701",
   "metadata": {},
   "outputs": [
    {
     "data": {
      "text/plain": [
       "churned\n",
       "0    5496\n",
       "1      88\n",
       "Name: count, dtype: int64"
      ]
     },
     "execution_count": 6,
     "metadata": {},
     "output_type": "execute_result"
    }
   ],
   "source": [
    "# Create the 'churned' column\n",
    "features_df['churned'] = features_df['user_id'].isin(churned_users).astype('int32')\n",
    "features_df['churned'].value_counts()"
   ]
  },
  {
   "cell_type": "code",
   "execution_count": 7,
   "id": "1a1add47-ea97-4dad-8e70-4874e4a54f20",
   "metadata": {},
   "outputs": [
    {
     "name": "stdout",
     "output_type": "stream",
     "text": [
      "<class 'cudf.core.dataframe.DataFrame'>\n",
      "RangeIndex: 5584 entries, 0 to 5583\n",
      "Data columns (total 10 columns):\n",
      " #   Column                        Non-Null Count  Dtype\n",
      "---  ------                        --------------  -----\n",
      " 0   risk_tolerance                5584 non-null   object\n",
      " 1   investment_experience         5584 non-null   object\n",
      " 2   liquidity_needs               5584 non-null   object\n",
      " 3   platform                      5584 non-null   object\n",
      " 4   time_spent                    5584 non-null   float64\n",
      " 5   instrument_type_first_traded  5584 non-null   object\n",
      " 6   first_deposit_amount          5584 non-null   float64\n",
      " 7   time_horizon                  5584 non-null   object\n",
      " 8   user_id                       5584 non-null   object\n",
      " 9   churned                       5584 non-null   int32\n",
      "dtypes: float64(2), int32(1), object(7)\n",
      "memory usage: 918.7+ KB\n"
     ]
    }
   ],
   "source": [
    "features_df.info()"
   ]
  },
  {
   "cell_type": "code",
   "execution_count": 8,
   "id": "dbcdadf8-f7ae-41b7-9518-4dd0397c29d9",
   "metadata": {},
   "outputs": [
    {
     "data": {
      "text/html": [
       "<div>\n",
       "<style scoped>\n",
       "    .dataframe tbody tr th:only-of-type {\n",
       "        vertical-align: middle;\n",
       "    }\n",
       "\n",
       "    .dataframe tbody tr th {\n",
       "        vertical-align: top;\n",
       "    }\n",
       "\n",
       "    .dataframe thead th {\n",
       "        text-align: right;\n",
       "    }\n",
       "</style>\n",
       "<table border=\"1\" class=\"dataframe\">\n",
       "  <thead>\n",
       "    <tr style=\"text-align: right;\">\n",
       "      <th></th>\n",
       "      <th>count</th>\n",
       "      <th>mean</th>\n",
       "      <th>std</th>\n",
       "      <th>min</th>\n",
       "      <th>25%</th>\n",
       "      <th>50%</th>\n",
       "      <th>75%</th>\n",
       "      <th>max</th>\n",
       "    </tr>\n",
       "  </thead>\n",
       "  <tbody>\n",
       "    <tr>\n",
       "      <th>time_spent</th>\n",
       "      <td>5584.0</td>\n",
       "      <td>34.509706</td>\n",
       "      <td>155.080551</td>\n",
       "      <td>0.0</td>\n",
       "      <td>2.848908</td>\n",
       "      <td>13.474708</td>\n",
       "      <td>33.823829</td>\n",
       "      <td>8788.32945</td>\n",
       "    </tr>\n",
       "    <tr>\n",
       "      <th>first_deposit_amount</th>\n",
       "      <td>5584.0</td>\n",
       "      <td>633.566805</td>\n",
       "      <td>2118.323263</td>\n",
       "      <td>0.0</td>\n",
       "      <td>50.000000</td>\n",
       "      <td>100.000000</td>\n",
       "      <td>500.000000</td>\n",
       "      <td>50000.00000</td>\n",
       "    </tr>\n",
       "    <tr>\n",
       "      <th>churned</th>\n",
       "      <td>5584.0</td>\n",
       "      <td>0.015759</td>\n",
       "      <td>0.124554</td>\n",
       "      <td>0.0</td>\n",
       "      <td>0.000000</td>\n",
       "      <td>0.000000</td>\n",
       "      <td>0.000000</td>\n",
       "      <td>1.00000</td>\n",
       "    </tr>\n",
       "  </tbody>\n",
       "</table>\n",
       "</div>"
      ],
      "text/plain": [
       "                       count        mean          std  min        25%  \\\n",
       "time_spent            5584.0   34.509706   155.080551  0.0   2.848908   \n",
       "first_deposit_amount  5584.0  633.566805  2118.323263  0.0  50.000000   \n",
       "churned               5584.0    0.015759     0.124554  0.0   0.000000   \n",
       "\n",
       "                             50%         75%          max  \n",
       "time_spent             13.474708   33.823829   8788.32945  \n",
       "first_deposit_amount  100.000000  500.000000  50000.00000  \n",
       "churned                 0.000000    0.000000      1.00000  "
      ]
     },
     "execution_count": 8,
     "metadata": {},
     "output_type": "execute_result"
    }
   ],
   "source": [
    "features_df.describe().T"
   ]
  },
  {
   "cell_type": "code",
   "execution_count": 9,
   "id": "f7f11ab2-bca4-4881-ad94-35af73d48195",
   "metadata": {},
   "outputs": [
    {
     "data": {
      "text/plain": [
       "risk_tolerance\n",
       "high_risk_tolerance    3566\n",
       "med_risk_tolerance     1779\n",
       "low_risk_tolerance      239\n",
       "Name: count, dtype: int64"
      ]
     },
     "execution_count": 9,
     "metadata": {},
     "output_type": "execute_result"
    }
   ],
   "source": [
    "features_df['risk_tolerance'].value_counts()"
   ]
  },
  {
   "cell_type": "code",
   "execution_count": 10,
   "id": "31903243-60b0-4275-a747-06d9e8aeb812",
   "metadata": {},
   "outputs": [
    {
     "data": {
      "text/plain": [
       "investment_experience\n",
       "limited_investment_exp      2578\n",
       "no_investment_exp           1796\n",
       "good_investment_exp         1134\n",
       "extensive_investment_exp      76\n",
       "Name: count, dtype: int64"
      ]
     },
     "execution_count": 10,
     "metadata": {},
     "output_type": "execute_result"
    }
   ],
   "source": [
    "features_df['investment_experience'].value_counts()"
   ]
  },
  {
   "cell_type": "code",
   "execution_count": 11,
   "id": "9beb3870-2b27-42ea-a5db-80308d321b50",
   "metadata": {},
   "outputs": [
    {
     "data": {
      "text/plain": [
       "investment_experience\n",
       "limited_investment_exp    2578\n",
       "no_investment_exp         1796\n",
       "good_investment_exp       1210\n",
       "Name: count, dtype: int64"
      ]
     },
     "execution_count": 11,
     "metadata": {},
     "output_type": "execute_result"
    }
   ],
   "source": [
    "# change features of investment experience to 3\n",
    "features_df['investment_experience'] = features_df['investment_experience'].replace({\n",
    "    'extensive_investment_exp': 'good_investment_exp'\n",
    "})\n",
    "features_df['investment_experience'].value_counts()"
   ]
  },
  {
   "cell_type": "code",
   "execution_count": 12,
   "id": "d78a6b1c-2eec-436f-869c-66003cb49f82",
   "metadata": {},
   "outputs": [
    {
     "data": {
      "text/plain": [
       "liquidity_needs\n",
       "very_important_liq_need        4217\n",
       "somewhat_important_liq_need    1109\n",
       "not_important_liq_need          258\n",
       "Name: count, dtype: int64"
      ]
     },
     "execution_count": 12,
     "metadata": {},
     "output_type": "execute_result"
    }
   ],
   "source": [
    "features_df['liquidity_needs'].value_counts()"
   ]
  },
  {
   "cell_type": "code",
   "execution_count": 13,
   "id": "fe150636-a945-4013-b841-695e64088581",
   "metadata": {},
   "outputs": [
    {
     "data": {
      "text/plain": [
       "platform\n",
       "iOS        3550\n",
       "Android    1529\n",
       "both        505\n",
       "Name: count, dtype: int64"
      ]
     },
     "execution_count": 13,
     "metadata": {},
     "output_type": "execute_result"
    }
   ],
   "source": [
    "features_df['platform'].value_counts()"
   ]
  },
  {
   "cell_type": "code",
   "execution_count": 14,
   "id": "6a3dd258-9aee-40b0-b6f9-a4ebacf81382",
   "metadata": {
    "scrolled": true
   },
   "outputs": [
    {
     "data": {
      "text/plain": [
       "instrument_type_first_traded\n",
       "stock       4827\n",
       "etp          383\n",
       "adr          197\n",
       "mlp           55\n",
       "reit          55\n",
       "cef           20\n",
       "wrt           16\n",
       "0             13\n",
       "rlt            9\n",
       "lp             8\n",
       "tracking       1\n",
       "Name: count, dtype: int64"
      ]
     },
     "execution_count": 14,
     "metadata": {},
     "output_type": "execute_result"
    }
   ],
   "source": [
    "features_df['instrument_type_first_traded'].value_counts()"
   ]
  },
  {
   "cell_type": "code",
   "execution_count": 15,
   "id": "0157c5c1-783c-409f-8b63-712af461639f",
   "metadata": {},
   "outputs": [
    {
     "name": "stdout",
     "output_type": "stream",
     "text": [
      "instrument_type_first_traded\n",
      "stock        4827\n",
      "non_stock     757\n",
      "Name: count, dtype: int64\n"
     ]
    }
   ],
   "source": [
    "# Use vectorized operations to assign 'non_stock' to all values not equal to 'stock'\n",
    "features_df['instrument_type_first_traded'] = (\n",
    "    features_df['instrument_type_first_traded']\n",
    "    .where(features_df['instrument_type_first_traded'] == 'stock', 'non_stock')\n",
    ")\n",
    "\n",
    "# Check the updated value counts\n",
    "print(features_df['instrument_type_first_traded'].value_counts())"
   ]
  },
  {
   "cell_type": "code",
   "execution_count": 16,
   "id": "b05cbd52-fbe7-4b51-b903-1c1da7e43523",
   "metadata": {},
   "outputs": [
    {
     "data": {
      "text/plain": [
       "time_horizon\n",
       "short_time_horizon    2833\n",
       "long_time_horizon     1833\n",
       "med_time_horizon       918\n",
       "Name: count, dtype: int64"
      ]
     },
     "execution_count": 16,
     "metadata": {},
     "output_type": "execute_result"
    }
   ],
   "source": [
    "features_df['time_horizon'].value_counts()"
   ]
  },
  {
   "cell_type": "code",
   "execution_count": 17,
   "id": "42c65ada-9125-42dd-a23e-4d2e60cb5125",
   "metadata": {},
   "outputs": [
    {
     "name": "stdout",
     "output_type": "stream",
     "text": [
      "\n",
      "IsolationForest Best Parameters: {'model__contamination': 0.05, 'model__max_features': 1.0, 'model__max_samples': 256}\n",
      "\n",
      "IsolationForest Classification Report:\n",
      "\n",
      "              precision    recall  f1-score   support\n",
      "\n",
      "           0       0.99      0.05      0.10      5496\n",
      "           1       0.02      0.98      0.03        88\n",
      "\n",
      "    accuracy                           0.07      5584\n",
      "   macro avg       0.50      0.51      0.06      5584\n",
      "weighted avg       0.98      0.07      0.10      5584\n",
      "\n",
      "\n",
      "LocalOutlierFactor Best Parameters: {'model__contamination': 0.01, 'model__leaf_size': 10, 'model__n_neighbors': 35}\n",
      "\n",
      "LocalOutlierFactor Classification Report:\n",
      "\n",
      "              precision    recall  f1-score   support\n",
      "\n",
      "           0       0.98      0.01      0.02      5496\n",
      "           1       0.02      0.99      0.03        88\n",
      "\n",
      "    accuracy                           0.03      5584\n",
      "   macro avg       0.50      0.50      0.03      5584\n",
      "weighted avg       0.97      0.03      0.02      5584\n",
      "\n",
      "\n",
      "OneClassSVM Best Parameters: {'model__gamma': 'auto', 'model__kernel': 'poly', 'model__nu': 0.01}\n",
      "\n",
      "OneClassSVM Classification Report:\n",
      "\n",
      "              precision    recall  f1-score   support\n",
      "\n",
      "           0       0.98      0.14      0.24      5496\n",
      "           1       0.02      0.84      0.03        88\n",
      "\n",
      "    accuracy                           0.15      5584\n",
      "   macro avg       0.50      0.49      0.14      5584\n",
      "weighted avg       0.97      0.15      0.24      5584\n",
      "\n"
     ]
    }
   ],
   "source": [
    "import pandas as pd\n",
    "import numpy as np\n",
    "from sklearn.compose import ColumnTransformer\n",
    "from sklearn.pipeline import Pipeline\n",
    "from sklearn.preprocessing import OneHotEncoder, StandardScaler\n",
    "from sklearn.ensemble import IsolationForest\n",
    "from sklearn.neighbors import LocalOutlierFactor\n",
    "from sklearn.svm import OneClassSVM\n",
    "from sklearn.model_selection import GridSearchCV\n",
    "from sklearn.metrics import classification_report\n",
    "\n",
    "features_df = features_df.to_pandas()\n",
    "\n",
    "# Drop `user_id` and `churned` columns for training\n",
    "features_df = features_df.drop(columns=['user_id'])\n",
    "\n",
    "# Identify categorical and numerical features\n",
    "categorical_features = ['risk_tolerance', 'investment_experience', 'liquidity_needs', 'platform', \n",
    "                        'instrument_type_first_traded', 'time_horizon']\n",
    "numerical_features = ['time_spent', 'first_deposit_amount']\n",
    "\n",
    "# Define preprocessing for numerical and categorical features\n",
    "numerical_transformer = StandardScaler()\n",
    "categorical_transformer = OneHotEncoder(sparse_output=False, handle_unknown='ignore', min_frequency=0.01)\n",
    "\n",
    "# Combine preprocessors in a column transformer\n",
    "preprocessor = ColumnTransformer(\n",
    "    transformers=[\n",
    "        ('num', numerical_transformer, numerical_features),\n",
    "        ('cat', categorical_transformer, categorical_features)\n",
    "    ]\n",
    ")\n",
    "\n",
    "# Define anomaly detection models and parameter grids\n",
    "param_grids = {\n",
    "    'IsolationForest': {\n",
    "        'model__contamination': [0.01, 0.02, 0.05],\n",
    "        'model__max_samples': [128, 256, 'auto'],\n",
    "        'model__max_features': [0.5, 0.75, 1.0]\n",
    "    },\n",
    "    'LocalOutlierFactor': {\n",
    "        'model__n_neighbors': [20, 35, 50],\n",
    "        'model__leaf_size': [10, 30, 50],\n",
    "        'model__contamination': [0.01, 0.02, 0.05]\n",
    "    },\n",
    "    'OneClassSVM': {\n",
    "        'model__nu': [0.01, 0.05, 0.1],\n",
    "        'model__gamma': ['scale', 'auto'],\n",
    "        'model__kernel': ['rbf', 'poly', 'linear']\n",
    "    }\n",
    "}\n",
    "\n",
    "true_labels = features_df['churned']  # Ground truth labels for evaluation\n",
    "\n",
    "for name, param_grid in param_grids.items():\n",
    "    if name == 'IsolationForest':\n",
    "        model = IsolationForest(random_state=42)\n",
    "    elif name == 'LocalOutlierFactor':\n",
    "        model = LocalOutlierFactor(novelty=True)\n",
    "    elif name == 'OneClassSVM':\n",
    "        model = OneClassSVM()\n",
    "\n",
    "    pipeline = Pipeline([\n",
    "        ('preprocessor', preprocessor),\n",
    "        ('model', model)\n",
    "    ])\n",
    "\n",
    "    grid_search = GridSearchCV(\n",
    "        pipeline,\n",
    "        param_grid,\n",
    "        scoring='f1_macro',  # Adjust scoring based on your metric of interest\n",
    "        cv=3\n",
    "    )\n",
    "\n",
    "    grid_search.fit(features_df.drop(columns=['churned']), true_labels)\n",
    "    best_pipeline = grid_search.best_estimator_\n",
    "\n",
    "    # Predict using the best pipeline\n",
    "    predictions = best_pipeline.predict(features_df.drop(columns=['churned']))\n",
    "    binary_predictions = (predictions == 1).astype(int)\n",
    "\n",
    "    # Print classification report\n",
    "    print(f\"\\n{name} Best Parameters: {grid_search.best_params_}\\n\")\n",
    "    print(f\"{name} Classification Report:\\n\")\n",
    "    print(classification_report(true_labels, binary_predictions))"
   ]
  },
  {
   "cell_type": "code",
   "execution_count": null,
   "id": "03e0ffab-936d-4c0e-8e81-4123296cca5b",
   "metadata": {},
   "outputs": [],
   "source": []
  }
 ],
 "metadata": {
  "kernelspec": {
   "display_name": "Python (magpenv)",
   "language": "python",
   "name": "magpenv"
  },
  "language_info": {
   "codemirror_mode": {
    "name": "ipython",
    "version": 3
   },
   "file_extension": ".py",
   "mimetype": "text/x-python",
   "name": "python",
   "nbconvert_exporter": "python",
   "pygments_lexer": "ipython3",
   "version": "3.12.3"
  }
 },
 "nbformat": 4,
 "nbformat_minor": 5
}
