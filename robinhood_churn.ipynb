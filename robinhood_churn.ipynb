{
 "cells": [
  {
   "cell_type": "markdown",
   "id": "a3f416dd-9f7d-4d5c-98f8-60d9c86c7c82",
   "metadata": {},
   "source": [
    "### Churn @ Robinhood\n",
    "#### Load Libraries and Data"
   ]
  },
  {
   "cell_type": "code",
   "execution_count": 1,
   "id": "db448b89-e3eb-4152-b27d-88017574821c",
   "metadata": {},
   "outputs": [
    {
     "name": "stdout",
     "output_type": "stream",
     "text": [
      "Available GPUs: <Managed Device 0>\n"
     ]
    }
   ],
   "source": [
    "from numba import cuda\n",
    "\n",
    "try:\n",
    "    print(\"Available GPUs:\", cuda.gpus)\n",
    "except cuda.CudaSupportError as e:\n",
    "    print(\"CUDA Error:\", e)"
   ]
  },
  {
   "cell_type": "code",
   "execution_count": 2,
   "id": "6188b919-7526-4909-ab1e-62af0eac877b",
   "metadata": {},
   "outputs": [],
   "source": [
    "import cudf as cf\n",
    "equity_df_raw = cf.read_csv('./data/equity_value_data.csv')\n",
    "features_df_raw = cf.read_csv('./data/features_data.csv')\n",
    "\n",
    "equity_df = equity_df_raw.copy()\n",
    "features_df = features_df_raw.copy()"
   ]
  },
  {
   "cell_type": "code",
   "execution_count": 3,
   "id": "0b5d0bf5-595b-4bd2-8492-a42f0005f0db",
   "metadata": {},
   "outputs": [
    {
     "name": "stdout",
     "output_type": "stream",
     "text": [
      "<class 'cudf.core.dataframe.DataFrame'>\n",
      "RangeIndex: 1119158 entries, 0 to 1119157\n",
      "Data columns (total 3 columns):\n",
      " #   Column        Non-Null Count    Dtype\n",
      "---  ------        --------------    -----\n",
      " 0   timestamp     1119158 non-null  object\n",
      " 1   close_equity  1119158 non-null  float64\n",
      " 2   user_id       1119158 non-null  object\n",
      "dtypes: float64(1), object(2)\n",
      "memory usage: 72.6+ MB\n"
     ]
    }
   ],
   "source": [
    "equity_df.info()"
   ]
  },
  {
   "cell_type": "code",
   "execution_count": 4,
   "id": "72b93a2e-9529-4e93-a6de-50a747649a3c",
   "metadata": {},
   "outputs": [
    {
     "name": "stdout",
     "output_type": "stream",
     "text": [
      "<class 'cudf.core.dataframe.DataFrame'>\n",
      "RangeIndex: 5584 entries, 0 to 5583\n",
      "Data columns (total 9 columns):\n",
      " #   Column                        Non-Null Count  Dtype\n",
      "---  ------                        --------------  -----\n",
      " 0   risk_tolerance                5584 non-null   object\n",
      " 1   investment_experience         5584 non-null   object\n",
      " 2   liquidity_needs               5584 non-null   object\n",
      " 3   platform                      5584 non-null   object\n",
      " 4   time_spent                    5584 non-null   float64\n",
      " 5   instrument_type_first_traded  5584 non-null   object\n",
      " 6   first_deposit_amount          5584 non-null   float64\n",
      " 7   time_horizon                  5584 non-null   object\n",
      " 8   user_id                       5584 non-null   object\n",
      "dtypes: float64(2), object(7)\n",
      "memory usage: 896.8+ KB\n"
     ]
    }
   ],
   "source": [
    "features_df.info()"
   ]
  },
  {
   "cell_type": "markdown",
   "id": "0433abdc-8453-42e0-ab0f-1ec3b1c802a6",
   "metadata": {},
   "source": [
    "#### a). What percentage of users have churned in the data?\n",
    "A user is *churned* when their equity falls below 10 usd for 28 consecutive calendar days or longer having perviously been at least 10 usd\n",
    "\n",
    "**NOTE** Since no equities falls under 10 usd, threshold is set to a variable usd instead"
   ]
  },
  {
   "cell_type": "code",
   "execution_count": 5,
   "id": "09e65c4e-4ebf-49bd-b051-4f709ed91887",
   "metadata": {
    "scrolled": true
   },
   "outputs": [
    {
     "name": "stdout",
     "output_type": "stream",
     "text": [
      "Churned Percentage: 2.85%\n",
      "\n",
      "Churned Users: 0      030f4ca7bb7bf14fe5a442b9bffc19e8\n",
      "1      0503b35d3715f13fec0a6b7319a32a4f\n",
      "2      06a0e8155cf7d8ab0cf019ab0eac60fc\n",
      "3      097a54015a42f7f6b2f7ef1267df63d2\n",
      "4      08c81465c35d7b5208f4c14bd5bcc3bb\n",
      "                     ...               \n",
      "154    f9e3f4295ec8017a75ffed3184bc9ce6\n",
      "155    fc0681a87fd8e0befd0071ddd0d74303\n",
      "156    fcc6974e2d0288cdbda6ed9b47d12c77\n",
      "157    fc3e52dfa44438cd91838b1f48b7e57a\n",
      "158    ff4e65d48ca13643ec8ce86c445dae8d\n",
      "Name: user_id, Length: 159, dtype: object\n",
      "\n",
      "Total Users: 5584\n",
      "\n"
     ]
    }
   ],
   "source": [
    "# Set threshold\n",
    "thresh = 15\n",
    "\n",
    "# Step 1: Ensure the timestamp column is datetime and sort the data\n",
    "equity_df['timestamp'] = cf.to_datetime(equity_df['timestamp'])\n",
    "equity_df = equity_df.sort_values(['user_id', 'timestamp'])\n",
    "\n",
    "# Step 2: Flag close_equity below threshold\n",
    "equity_df[f'below_{thresh}'] = (equity_df['close_equity'] < thresh).astype(int)\n",
    "\n",
    "# Step 3: Compute rolling 28-day windows for each user\n",
    "equity_df[f'below_{thresh}_28d'] = equity_df.groupby('user_id')[f'below_{thresh}'].rolling(window=28, min_periods=28).sum().reset_index(0, drop=True)\n",
    "\n",
    "# Step 4: Identify churn (continuous 28 days below $11)\n",
    "equity_df['churn'] = (equity_df[f'below_{thresh}_28d'] == 28).astype(int).copy()\n",
    "\n",
    "# Step 5: Check if the user ever had close_equity >= 11\n",
    "# Group by 'user_id' to find the max close_equity\n",
    "user_max_equity = equity_df.groupby('user_id')['close_equity'].max().reset_index()\n",
    "user_max_equity.rename(columns={\"close_equity\": \"max_equity\"}, inplace=True)\n",
    "\n",
    "# Merge back to associate max_equity with each user_id in the main DataFrame\n",
    "equity_df = equity_df.merge(user_max_equity, on=\"user_id\", how=\"left\")\n",
    "\n",
    "# Add a flag for users who had close_equity >= 11 at some point\n",
    "equity_df[f'above_{thresh}_before'] = (equity_df['max_equity'] >= thresh).astype(int)\n",
    "\n",
    "# Step 6: Filter churned users\n",
    "churned_users = equity_df.loc[\n",
    "    (equity_df['churn'] == 1) & (equity_df[f'above_{thresh}_before'] == 1),\n",
    "    'user_id'\n",
    "].unique()\n",
    "\n",
    "# Step 7: Calculate the churn percentage\n",
    "total_users = equity_df['user_id'].nunique()\n",
    "churn_percentage = (len(churned_users) / total_users) * 100\n",
    "\n",
    "print(f\"Churned Percentage: {churn_percentage:.2f}%\\n\")\n",
    "print(f\"Churned Users: {churned_users}\\n\")\n",
    "print(f\"Total Users: {total_users}\\n\")"
   ]
  },
  {
   "cell_type": "markdown",
   "id": "8e3b396b-384c-4d87-b082-433b1ae29592",
   "metadata": {},
   "source": [
    "Find total days on platform for each user_id"
   ]
  },
  {
   "cell_type": "code",
   "execution_count": 6,
   "id": "8af13b59-5dd3-45b4-b528-b6631b8dd921",
   "metadata": {},
   "outputs": [
    {
     "name": "stdout",
     "output_type": "stream",
     "text": [
      "<class 'cudf.core.dataframe.DataFrame'>\n",
      "RangeIndex: 1119158 entries, 0 to 1119157\n",
      "Data columns (total 8 columns):\n",
      " #   Column           Non-Null Count    Dtype\n",
      "---  ------           --------------    -----\n",
      " 0   timestamp        1119158 non-null  datetime64[ns]\n",
      " 1   close_equity     1119158 non-null  float64\n",
      " 2   user_id          1119158 non-null  object\n",
      " 3   below_15         1119158 non-null  int64\n",
      " 4   below_15_28d     971628 non-null   int64\n",
      " 5   churn            971628 non-null   int64\n",
      " 6   max_equity       1119158 non-null  float64\n",
      " 7   above_15_before  1119158 non-null  int64\n",
      "dtypes: datetime64[ns](1), float64(2), int64(4), object(1)\n",
      "memory usage: 98.5+ MB\n"
     ]
    }
   ],
   "source": [
    "equity_df.info()"
   ]
  },
  {
   "cell_type": "code",
   "execution_count": 7,
   "id": "b603a63a-7516-40a8-890a-60051b856f62",
   "metadata": {},
   "outputs": [
    {
     "name": "stdout",
     "output_type": "stream",
     "text": [
      "                               user_id  total_days_on_platform\n",
      "0     0012db34aa7b083f5714e7831195e54d                     365\n",
      "1     001d6c77dbdb3213cead7673f250bfdc                     365\n",
      "2     002e4653171ddc61c3cd30603cd7bd3e                     184\n",
      "3     00384fa9be6fdca1b786bae70d78f88f                     177\n",
      "4     0042aac295a0d4df88f4b83012778bd4                     365\n",
      "...                                ...                     ...\n",
      "5579  ff9ee08791e20724a86995ab2bc72578                     365\n",
      "5580  ffa12d2f97e310910291f9b26fb2318d                     365\n",
      "5581  ffae713096867a32e74f633060667153                     324\n",
      "5582  ffbda9a14e07718e2b21fb03896d21c5                     185\n",
      "5583  ffc1e622f3a0b2666f09a6dcb7f27918                     299\n",
      "\n",
      "[5584 rows x 2 columns]\n"
     ]
    }
   ],
   "source": [
    "# Convert cudf DataFrame to pandas for grouping, if necessary\n",
    "equity_df = equity_df.to_pandas()\n",
    "\n",
    "# Group by `user_id` and calculate the total days on platform\n",
    "total_days = equity_df.groupby('user_id')['timestamp'].agg(lambda x: (x.max() - x.min()).days + 1).reset_index()\n",
    "\n",
    "# Rename the columns for clarity\n",
    "total_days.columns = ['user_id', 'total_days_on_platform']\n",
    "\n",
    "# Display the result\n",
    "print(total_days)"
   ]
  },
  {
   "cell_type": "markdown",
   "id": "77d55fca-a987-4a77-b890-877903a4334e",
   "metadata": {},
   "source": [
    "b). Build a classifier given a user with their features assigns a churn probability for every user and predicts which users will churn"
   ]
  },
  {
   "cell_type": "code",
   "execution_count": 8,
   "id": "2dd97237-dcab-4c73-95aa-a5c413508701",
   "metadata": {},
   "outputs": [
    {
     "data": {
      "text/plain": [
       "churned\n",
       "0    5425\n",
       "1     159\n",
       "Name: count, dtype: int64"
      ]
     },
     "execution_count": 8,
     "metadata": {},
     "output_type": "execute_result"
    }
   ],
   "source": [
    "# Create the 'churned' column\n",
    "features_df['churned'] = features_df['user_id'].isin(churned_users).astype('int32')\n",
    "features_df['churned'].value_counts()"
   ]
  },
  {
   "cell_type": "code",
   "execution_count": 9,
   "id": "1a1add47-ea97-4dad-8e70-4874e4a54f20",
   "metadata": {},
   "outputs": [
    {
     "name": "stdout",
     "output_type": "stream",
     "text": [
      "<class 'cudf.core.dataframe.DataFrame'>\n",
      "RangeIndex: 5584 entries, 0 to 5583\n",
      "Data columns (total 10 columns):\n",
      " #   Column                        Non-Null Count  Dtype\n",
      "---  ------                        --------------  -----\n",
      " 0   risk_tolerance                5584 non-null   object\n",
      " 1   investment_experience         5584 non-null   object\n",
      " 2   liquidity_needs               5584 non-null   object\n",
      " 3   platform                      5584 non-null   object\n",
      " 4   time_spent                    5584 non-null   float64\n",
      " 5   instrument_type_first_traded  5584 non-null   object\n",
      " 6   first_deposit_amount          5584 non-null   float64\n",
      " 7   time_horizon                  5584 non-null   object\n",
      " 8   user_id                       5584 non-null   object\n",
      " 9   churned                       5584 non-null   int32\n",
      "dtypes: float64(2), int32(1), object(7)\n",
      "memory usage: 918.7+ KB\n"
     ]
    }
   ],
   "source": [
    "features_df.info()"
   ]
  },
  {
   "cell_type": "code",
   "execution_count": 10,
   "id": "dbcdadf8-f7ae-41b7-9518-4dd0397c29d9",
   "metadata": {},
   "outputs": [
    {
     "data": {
      "text/html": [
       "<div>\n",
       "<style scoped>\n",
       "    .dataframe tbody tr th:only-of-type {\n",
       "        vertical-align: middle;\n",
       "    }\n",
       "\n",
       "    .dataframe tbody tr th {\n",
       "        vertical-align: top;\n",
       "    }\n",
       "\n",
       "    .dataframe thead th {\n",
       "        text-align: right;\n",
       "    }\n",
       "</style>\n",
       "<table border=\"1\" class=\"dataframe\">\n",
       "  <thead>\n",
       "    <tr style=\"text-align: right;\">\n",
       "      <th></th>\n",
       "      <th>count</th>\n",
       "      <th>mean</th>\n",
       "      <th>std</th>\n",
       "      <th>min</th>\n",
       "      <th>25%</th>\n",
       "      <th>50%</th>\n",
       "      <th>75%</th>\n",
       "      <th>max</th>\n",
       "    </tr>\n",
       "  </thead>\n",
       "  <tbody>\n",
       "    <tr>\n",
       "      <th>time_spent</th>\n",
       "      <td>5584.0</td>\n",
       "      <td>34.509706</td>\n",
       "      <td>155.080551</td>\n",
       "      <td>0.0</td>\n",
       "      <td>2.848908</td>\n",
       "      <td>13.474708</td>\n",
       "      <td>33.823829</td>\n",
       "      <td>8788.32945</td>\n",
       "    </tr>\n",
       "    <tr>\n",
       "      <th>first_deposit_amount</th>\n",
       "      <td>5584.0</td>\n",
       "      <td>633.566805</td>\n",
       "      <td>2118.323263</td>\n",
       "      <td>0.0</td>\n",
       "      <td>50.000000</td>\n",
       "      <td>100.000000</td>\n",
       "      <td>500.000000</td>\n",
       "      <td>50000.00000</td>\n",
       "    </tr>\n",
       "    <tr>\n",
       "      <th>churned</th>\n",
       "      <td>5584.0</td>\n",
       "      <td>0.028474</td>\n",
       "      <td>0.166338</td>\n",
       "      <td>0.0</td>\n",
       "      <td>0.000000</td>\n",
       "      <td>0.000000</td>\n",
       "      <td>0.000000</td>\n",
       "      <td>1.00000</td>\n",
       "    </tr>\n",
       "  </tbody>\n",
       "</table>\n",
       "</div>"
      ],
      "text/plain": [
       "                       count        mean          std  min        25%  \\\n",
       "time_spent            5584.0   34.509706   155.080551  0.0   2.848908   \n",
       "first_deposit_amount  5584.0  633.566805  2118.323263  0.0  50.000000   \n",
       "churned               5584.0    0.028474     0.166338  0.0   0.000000   \n",
       "\n",
       "                             50%         75%          max  \n",
       "time_spent             13.474708   33.823829   8788.32945  \n",
       "first_deposit_amount  100.000000  500.000000  50000.00000  \n",
       "churned                 0.000000    0.000000      1.00000  "
      ]
     },
     "execution_count": 10,
     "metadata": {},
     "output_type": "execute_result"
    }
   ],
   "source": [
    "features_df.describe().T"
   ]
  },
  {
   "cell_type": "code",
   "execution_count": 11,
   "id": "f7f11ab2-bca4-4881-ad94-35af73d48195",
   "metadata": {},
   "outputs": [
    {
     "data": {
      "text/plain": [
       "risk_tolerance\n",
       "high_risk_tolerance    3566\n",
       "med_risk_tolerance     1779\n",
       "low_risk_tolerance      239\n",
       "Name: count, dtype: int64"
      ]
     },
     "execution_count": 11,
     "metadata": {},
     "output_type": "execute_result"
    }
   ],
   "source": [
    "features_df['risk_tolerance'].value_counts()"
   ]
  },
  {
   "cell_type": "code",
   "execution_count": 12,
   "id": "31903243-60b0-4275-a747-06d9e8aeb812",
   "metadata": {},
   "outputs": [
    {
     "data": {
      "text/plain": [
       "investment_experience\n",
       "limited_investment_exp      2578\n",
       "no_investment_exp           1796\n",
       "good_investment_exp         1134\n",
       "extensive_investment_exp      76\n",
       "Name: count, dtype: int64"
      ]
     },
     "execution_count": 12,
     "metadata": {},
     "output_type": "execute_result"
    }
   ],
   "source": [
    "features_df['investment_experience'].value_counts()"
   ]
  },
  {
   "cell_type": "code",
   "execution_count": 13,
   "id": "9beb3870-2b27-42ea-a5db-80308d321b50",
   "metadata": {},
   "outputs": [
    {
     "data": {
      "text/plain": [
       "investment_experience\n",
       "limited_investment_exp    2578\n",
       "no_investment_exp         1796\n",
       "good_investment_exp       1210\n",
       "Name: count, dtype: int64"
      ]
     },
     "execution_count": 13,
     "metadata": {},
     "output_type": "execute_result"
    }
   ],
   "source": [
    "# change features of investment experience to 3\n",
    "features_df['investment_experience'] = features_df['investment_experience'].replace({\n",
    "    'extensive_investment_exp': 'good_investment_exp'\n",
    "})\n",
    "features_df['investment_experience'].value_counts()"
   ]
  },
  {
   "cell_type": "code",
   "execution_count": 14,
   "id": "d78a6b1c-2eec-436f-869c-66003cb49f82",
   "metadata": {},
   "outputs": [
    {
     "data": {
      "text/plain": [
       "liquidity_needs\n",
       "very_important_liq_need        4217\n",
       "somewhat_important_liq_need    1109\n",
       "not_important_liq_need          258\n",
       "Name: count, dtype: int64"
      ]
     },
     "execution_count": 14,
     "metadata": {},
     "output_type": "execute_result"
    }
   ],
   "source": [
    "features_df['liquidity_needs'].value_counts()"
   ]
  },
  {
   "cell_type": "code",
   "execution_count": 15,
   "id": "fe150636-a945-4013-b841-695e64088581",
   "metadata": {},
   "outputs": [
    {
     "data": {
      "text/plain": [
       "platform\n",
       "iOS        3550\n",
       "Android    1529\n",
       "both        505\n",
       "Name: count, dtype: int64"
      ]
     },
     "execution_count": 15,
     "metadata": {},
     "output_type": "execute_result"
    }
   ],
   "source": [
    "features_df['platform'].value_counts()"
   ]
  },
  {
   "cell_type": "code",
   "execution_count": 16,
   "id": "6a3dd258-9aee-40b0-b6f9-a4ebacf81382",
   "metadata": {
    "scrolled": true
   },
   "outputs": [
    {
     "data": {
      "text/plain": [
       "instrument_type_first_traded\n",
       "stock       4827\n",
       "etp          383\n",
       "adr          197\n",
       "mlp           55\n",
       "reit          55\n",
       "cef           20\n",
       "wrt           16\n",
       "0             13\n",
       "rlt            9\n",
       "lp             8\n",
       "tracking       1\n",
       "Name: count, dtype: int64"
      ]
     },
     "execution_count": 16,
     "metadata": {},
     "output_type": "execute_result"
    }
   ],
   "source": [
    "features_df['instrument_type_first_traded'].value_counts()"
   ]
  },
  {
   "cell_type": "code",
   "execution_count": 17,
   "id": "0157c5c1-783c-409f-8b63-712af461639f",
   "metadata": {},
   "outputs": [
    {
     "name": "stdout",
     "output_type": "stream",
     "text": [
      "instrument_type_first_traded\n",
      "stock        4827\n",
      "non_stock     757\n",
      "Name: count, dtype: int64\n"
     ]
    }
   ],
   "source": [
    "# Use vectorized operations to assign 'non_stock' to all values not equal to 'stock'\n",
    "features_df['instrument_type_first_traded'] = (\n",
    "    features_df['instrument_type_first_traded']\n",
    "    .where(features_df['instrument_type_first_traded'] == 'stock', 'non_stock')\n",
    ")\n",
    "\n",
    "# Check the updated value counts\n",
    "print(features_df['instrument_type_first_traded'].value_counts())"
   ]
  },
  {
   "cell_type": "code",
   "execution_count": 18,
   "id": "b05cbd52-fbe7-4b51-b903-1c1da7e43523",
   "metadata": {},
   "outputs": [
    {
     "data": {
      "text/plain": [
       "time_horizon\n",
       "short_time_horizon    2833\n",
       "long_time_horizon     1833\n",
       "med_time_horizon       918\n",
       "Name: count, dtype: int64"
      ]
     },
     "execution_count": 18,
     "metadata": {},
     "output_type": "execute_result"
    }
   ],
   "source": [
    "features_df['time_horizon'].value_counts()"
   ]
  },
  {
   "cell_type": "code",
   "execution_count": 19,
   "id": "42c65ada-9125-42dd-a23e-4d2e60cb5125",
   "metadata": {},
   "outputs": [
    {
     "name": "stdout",
     "output_type": "stream",
     "text": [
      "Index(['risk_tolerance', 'investment_experience', 'liquidity_needs',\n",
      "       'platform', 'time_spent', 'instrument_type_first_traded',\n",
      "       'first_deposit_amount', 'time_horizon', 'churned', 'total_days'],\n",
      "      dtype='object')\n",
      "\n",
      "IsolationForest Best Parameters: {'model__contamination': 0.05, 'model__max_features': 0.5, 'model__max_samples': 128}\n",
      "\n",
      "IsolationForest Classification Report:\n",
      "\n",
      "              precision    recall  f1-score   support\n",
      "\n",
      "           0       0.99      0.05      0.10      5425\n",
      "           1       0.03      0.98      0.06       159\n",
      "\n",
      "    accuracy                           0.08      5584\n",
      "   macro avg       0.51      0.52      0.08      5584\n",
      "weighted avg       0.96      0.08      0.10      5584\n",
      "\n",
      "\n",
      "LocalOutlierFactor Best Parameters: {'model__contamination': 0.02, 'model__leaf_size': 10, 'model__n_neighbors': 10}\n",
      "\n",
      "LocalOutlierFactor Classification Report:\n",
      "\n",
      "              precision    recall  f1-score   support\n",
      "\n",
      "           0       0.98      0.02      0.03      5425\n",
      "           1       0.03      0.99      0.06       159\n",
      "\n",
      "    accuracy                           0.04      5584\n",
      "   macro avg       0.50      0.50      0.04      5584\n",
      "weighted avg       0.95      0.04      0.03      5584\n",
      "\n",
      "\n",
      "OneClassSVM Best Parameters: {'model__gamma': 'auto', 'model__kernel': 'rbf', 'model__nu': 0.1}\n",
      "\n",
      "OneClassSVM Classification Report:\n",
      "\n",
      "              precision    recall  f1-score   support\n",
      "\n",
      "           0       0.99      0.10      0.19      5425\n",
      "           1       0.03      0.97      0.06       159\n",
      "\n",
      "    accuracy                           0.13      5584\n",
      "   macro avg       0.51      0.54      0.12      5584\n",
      "weighted avg       0.96      0.13      0.18      5584\n",
      "\n"
     ]
    }
   ],
   "source": [
    "import pandas as pd\n",
    "import numpy as np\n",
    "from sklearn.compose import ColumnTransformer\n",
    "from sklearn.pipeline import Pipeline\n",
    "from sklearn.preprocessing import OneHotEncoder, StandardScaler\n",
    "from sklearn.ensemble import IsolationForest\n",
    "from sklearn.neighbors import LocalOutlierFactor\n",
    "from sklearn.svm import OneClassSVM\n",
    "from sklearn.model_selection import GridSearchCV\n",
    "from sklearn.metrics import classification_report\n",
    "\n",
    "features_df = features_df.to_pandas()\n",
    "\n",
    "# Merge total_days into features_df on 'user_id'\n",
    "features_df = features_df.merge(total_days, on='user_id', how='left')\n",
    "\n",
    "# Handle missing values in total_days\n",
    "features_df['total_days_on_platform'] = features_df['total_days_on_platform'].fillna(0)\n",
    "\n",
    "# Rename column for clarity\n",
    "features_df.rename(columns={'total_days_on_platform': 'total_days'}, inplace=True)\n",
    "\n",
    "# Drop `user_id` and `churned` columns for training\n",
    "features_df = features_df.drop(columns=['user_id'])\n",
    "\n",
    "# Verify the merge worked correctly\n",
    "print(features_df.columns)\n",
    "\n",
    "# Identify categorical and numerical features\n",
    "categorical_features = ['risk_tolerance', 'investment_experience', 'liquidity_needs', 'platform', \n",
    "                        'instrument_type_first_traded', 'time_horizon']\n",
    "numerical_features = ['time_spent', 'first_deposit_amount', 'total_days']\n",
    "\n",
    "# Define preprocessing for numerical and categorical features\n",
    "numerical_transformer = StandardScaler()\n",
    "categorical_transformer = OneHotEncoder(sparse_output=True, handle_unknown='ignore', min_frequency=0.01)\n",
    "\n",
    "# Combine preprocessors in a column transformer\n",
    "preprocessor = ColumnTransformer(\n",
    "    transformers=[\n",
    "        ('num', numerical_transformer, numerical_features),\n",
    "        ('cat', categorical_transformer, categorical_features)\n",
    "    ]\n",
    ")\n",
    "\n",
    "# Define anomaly detection models and parameter grids\n",
    "param_grids = {\n",
    "    'IsolationForest': {\n",
    "        'model__contamination': [0.005, 0.01, 0.02, 0.05],\n",
    "        'model__max_samples': [128, 256, 'auto'],\n",
    "        'model__max_features': [0.25, 0.5, 0.75, 1.0]\n",
    "    },\n",
    "    'LocalOutlierFactor': {\n",
    "        'model__n_neighbors': [10, 20, 35, 50],\n",
    "        'model__leaf_size': [10, 25, 30, 50],\n",
    "        'model__contamination': [0.005, 0.01, 0.02, 0.05]\n",
    "    },\n",
    "    'OneClassSVM': {\n",
    "        'model__nu': [0.005, 0.01, 0.05, 0.1],\n",
    "        'model__gamma': ['scale', 'auto'],\n",
    "        'model__kernel': ['rbf', 'poly', 'linear']\n",
    "    }\n",
    "}\n",
    "\n",
    "true_labels = features_df['churned']  # Ground truth labels for evaluation\n",
    "\n",
    "for name, param_grid in param_grids.items():\n",
    "    if name == 'IsolationForest':\n",
    "        model = IsolationForest(random_state=42)\n",
    "    elif name == 'LocalOutlierFactor':\n",
    "        model = LocalOutlierFactor(novelty=True)\n",
    "    elif name == 'OneClassSVM':\n",
    "        model = OneClassSVM()\n",
    "\n",
    "    pipeline = Pipeline([\n",
    "        ('preprocessor', preprocessor),\n",
    "        ('model', model)\n",
    "    ])\n",
    "\n",
    "    grid_search = GridSearchCV(\n",
    "        pipeline,\n",
    "        param_grid,\n",
    "        scoring='f1_macro',  # Adjust scoring based on your metric of interest\n",
    "        cv=5\n",
    "    )\n",
    "\n",
    "    grid_search.fit(features_df.drop(columns=['churned']), true_labels)\n",
    "    best_pipeline = grid_search.best_estimator_\n",
    "\n",
    "    # Predict using the best pipeline\n",
    "    predictions = best_pipeline.predict(features_df.drop(columns=['churned']))\n",
    "    binary_predictions = (predictions == 1).astype(int)\n",
    "\n",
    "    # Print classification report\n",
    "    print(f\"\\n{name} Best Parameters: {grid_search.best_params_}\\n\")\n",
    "    print(f\"{name} Classification Report:\\n\")\n",
    "    print(classification_report(true_labels, binary_predictions))\n",
    "\n",
    "    # Print feature importances if available\n",
    "    if hasattr(best_pipeline.named_steps['model'], 'feature_importances_'):\n",
    "        feature_importances = best_pipeline.named_steps['model'].feature_importances_\n",
    "        feature_names = numerical_features + list(best_pipeline.named_steps['preprocessor']\n",
    "                                                  .transformers_[1][1]\n",
    "                                                  .get_feature_names_out(categorical_features))\n",
    "        importance_df = pd.DataFrame({\n",
    "            'Feature': feature_names,\n",
    "            'Importance': feature_importances\n",
    "        }).sort_values(by='Importance', ascending=False)\n",
    "        print(f\"\\n{name} Feature Importances:\\n\")\n",
    "        print(importance_df)\n"
   ]
  },
  {
   "cell_type": "code",
   "execution_count": 20,
   "id": "03e0ffab-936d-4c0e-8e81-4123296cca5b",
   "metadata": {},
   "outputs": [
    {
     "name": "stdout",
     "output_type": "stream",
     "text": [
      "\n",
      "IsolationForest Best Parameters: {'model__contamination': 0.05, 'model__max_features': 1.0, 'model__max_samples': 256}\n",
      "\n",
      "IsolationForest Classification Report:\n",
      "\n",
      "              precision    recall  f1-score   support\n",
      "\n",
      "           0       0.98      0.05      0.10      5425\n",
      "           1       0.03      0.97      0.06       159\n",
      "\n",
      "    accuracy                           0.08      5584\n",
      "   macro avg       0.51      0.51      0.08      5584\n",
      "weighted avg       0.96      0.08      0.10      5584\n",
      "\n",
      "\n",
      "LocalOutlierFactor Best Parameters: {'model__contamination': 0.02, 'model__leaf_size': 10, 'model__n_neighbors': 35}\n",
      "\n",
      "LocalOutlierFactor Classification Report:\n",
      "\n",
      "              precision    recall  f1-score   support\n",
      "\n",
      "           0       0.95      0.02      0.04      5425\n",
      "           1       0.03      0.97      0.05       159\n",
      "\n",
      "    accuracy                           0.05      5584\n",
      "   macro avg       0.49      0.49      0.05      5584\n",
      "weighted avg       0.93      0.05      0.04      5584\n",
      "\n",
      "\n",
      "OneClassSVM Best Parameters: {'model__gamma': 'auto', 'model__kernel': 'poly', 'model__nu': 0.01}\n",
      "\n",
      "OneClassSVM Classification Report:\n",
      "\n",
      "              precision    recall  f1-score   support\n",
      "\n",
      "           0       0.97      0.26      0.40      5425\n",
      "           1       0.03      0.75      0.06       159\n",
      "\n",
      "    accuracy                           0.27      5584\n",
      "   macro avg       0.50      0.51      0.23      5584\n",
      "weighted avg       0.95      0.27      0.39      5584\n",
      "\n"
     ]
    }
   ],
   "source": [
    "# Define the new set of features\n",
    "categorical_features = ['risk_tolerance', 'investment_experience', 'liquidity_needs', 'platform', 'instrument_type_first_traded']\n",
    "numerical_features = ['time_spent']\n",
    "\n",
    "# Update the preprocessing pipeline\n",
    "numerical_transformer = StandardScaler()\n",
    "categorical_transformer = OneHotEncoder(sparse_output=True, handle_unknown='ignore', min_frequency=0.01)\n",
    "\n",
    "preprocessor = ColumnTransformer(\n",
    "    transformers=[\n",
    "        ('num', numerical_transformer, numerical_features),\n",
    "        ('cat', categorical_transformer, categorical_features)\n",
    "    ]\n",
    ")\n",
    "\n",
    "# Rerun the models with the updated feature set\n",
    "for name, param_grid in param_grids.items():\n",
    "    if name == 'IsolationForest':\n",
    "        model = IsolationForest(random_state=42)\n",
    "    elif name == 'LocalOutlierFactor':\n",
    "        model = LocalOutlierFactor(novelty=True)\n",
    "    elif name == 'OneClassSVM':\n",
    "        model = OneClassSVM()\n",
    "\n",
    "    pipeline = Pipeline([\n",
    "        ('preprocessor', preprocessor),\n",
    "        ('model', model)\n",
    "    ])\n",
    "\n",
    "    grid_search = GridSearchCV(\n",
    "        pipeline,\n",
    "        param_grid,\n",
    "        scoring='f1_macro',  # Adjust scoring based on your metric of interest\n",
    "        cv=5\n",
    "    )\n",
    "\n",
    "    grid_search.fit(features_df[categorical_features + numerical_features], true_labels)\n",
    "    best_pipeline = grid_search.best_estimator_\n",
    "\n",
    "    # Predict using the best pipeline\n",
    "    predictions = best_pipeline.predict(features_df[categorical_features + numerical_features])\n",
    "    binary_predictions = (predictions == 1).astype(int)\n",
    "\n",
    "    # Print classification report\n",
    "    print(f\"\\n{name} Best Parameters: {grid_search.best_params_}\\n\")\n",
    "    print(f\"{name} Classification Report:\\n\")\n",
    "    print(classification_report(true_labels, binary_predictions))\n",
    "\n",
    "    # Print feature importances if available\n",
    "    if hasattr(best_pipeline.named_steps['model'], 'feature_importances_'):\n",
    "        feature_importances = best_pipeline.named_steps['model'].feature_importances_\n",
    "        feature_names = numerical_features + list(best_pipeline.named_steps['preprocessor']\n",
    "                                                  .transformers_[1][1]\n",
    "                                                  .get_feature_names_out(categorical_features))\n",
    "        importance_df = pd.DataFrame({\n",
    "            'Feature': feature_names,\n",
    "            'Importance': feature_importances\n",
    "        }).sort_values(by='Importance', ascending=False)\n",
    "        print(f\"\\n{name} Feature Importances:\\n\")\n",
    "        print(importance_df)\n"
   ]
  },
  {
   "cell_type": "code",
   "execution_count": 22,
   "id": "459229ab-9128-4877-bc53-36b3fcf00459",
   "metadata": {},
   "outputs": [
    {
     "data": {
      "image/png": "[encoded data removed]",
      "text/plain": [
       "<Figure size 1000x500 with 1 Axes>"
      ]
     },
     "metadata": {},
     "output_type": "display_data"
    },
    {
     "data": {
      "image/png": "[encoded data removed]",
      "text/plain": [
       "<Figure size 1000x500 with 1 Axes>"
      ]
     },
     "metadata": {},
     "output_type": "display_data"
    }
   ],
   "source": [
    "from sklearn.compose import ColumnTransformer\n",
    "from sklearn.pipeline import Pipeline\n",
    "from sklearn.preprocessing import OneHotEncoder, StandardScaler\n",
    "from sklearn.svm import OneClassSVM\n",
    "from sklearn.metrics import roc_curve, precision_recall_curve, auc\n",
    "import matplotlib.pyplot as plt\n",
    "\n",
    "# Define the preprocessing pipeline\n",
    "categorical_features = ['risk_tolerance', 'investment_experience', 'liquidity_needs', 'platform', 'instrument_type_first_traded']\n",
    "numerical_features = ['time_spent']\n",
    "\n",
    "numerical_transformer = StandardScaler()\n",
    "categorical_transformer = OneHotEncoder(sparse_output=False, handle_unknown='ignore', min_frequency=0.01)\n",
    "\n",
    "preprocessor = ColumnTransformer(\n",
    "    transformers=[\n",
    "        ('num', numerical_transformer, numerical_features),\n",
    "        ('cat', categorical_transformer, categorical_features)\n",
    "    ]\n",
    ")\n",
    "\n",
    "# Combine preprocessing with the model\n",
    "pipeline = Pipeline([\n",
    "    ('preprocessor', preprocessor),\n",
    "    ('model', OneClassSVM(gamma='auto', kernel='poly', nu=0.01))\n",
    "])\n",
    "\n",
    "# Fit the pipeline\n",
    "pipeline.fit(features_df.drop(columns=['churned']))\n",
    "\n",
    "# Get decision scores\n",
    "decision_scores = pipeline.named_steps['model'].decision_function(\n",
    "    pipeline.named_steps['preprocessor'].transform(features_df.drop(columns=['churned']))\n",
    ")\n",
    "\n",
    "# Compute ROC curve\n",
    "fpr, tpr, roc_thresholds = roc_curve(true_labels, decision_scores)\n",
    "roc_auc = auc(fpr, tpr)\n",
    "\n",
    "# Compute Precision-Recall curve\n",
    "precision, recall, pr_thresholds = precision_recall_curve(true_labels, decision_scores)\n",
    "pr_auc = auc(recall, precision)\n",
    "\n",
    "# Plot ROC Curve\n",
    "plt.figure(figsize=(10, 5))\n",
    "plt.plot(fpr, tpr, label=f\"ROC Curve (AUC = {roc_auc:.2f})\")\n",
    "plt.plot([0, 1], [0, 1], 'k--', label=\"Random Classifier\")\n",
    "plt.xlabel(\"False Positive Rate\")\n",
    "plt.ylabel(\"True Positive Rate\")\n",
    "plt.title(\"ROC Curve - OneClassSVM\")\n",
    "plt.legend()\n",
    "plt.grid()\n",
    "plt.show()\n",
    "\n",
    "# Plot Precision-Recall Curve\n",
    "plt.figure(figsize=(10, 5))\n",
    "plt.plot(recall, precision, label=f\"Precision-Recall Curve (AUC = {pr_auc:.2f})\")\n",
    "plt.xlabel(\"Recall\")\n",
    "plt.ylabel(\"Precision\")\n",
    "plt.title(\"Precision-Recall Curve - OneClassSVM\")\n",
    "plt.legend()\n",
    "plt.grid()\n",
    "plt.show()\n"
   ]
  },
  {
   "cell_type": "markdown",
   "id": "2bc4588e-0bdf-49e6-b9d9-0ce1287f6187",
   "metadata": {},
   "source": [
    "Autoencoders for Anomaly Detection\n",
    "Autoencoders learn to reconstruct normal data and identify anomalies as samples with high reconstruction error."
   ]
  },
  {
   "cell_type": "code",
   "execution_count": 24,
   "id": "42497e4c-f510-4c45-96da-cebaceddaba7",
   "metadata": {
    "scrolled": true
   },
   "outputs": [
    {
     "name": "stdout",
     "output_type": "stream",
     "text": [
      "Epoch 1/50\n"
     ]
    },
    {
     "name": "stderr",
     "output_type": "stream",
     "text": [
      "WARNING: All log messages before absl::InitializeLog() is called are written to STDERR\n",
      "I0000 00:00:1737706455.988161   51396 service.cc:148] XLA service 0x71dc280035d0 initialized for platform CUDA (this does not guarantee that XLA will be used). Devices:\n",
      "I0000 00:00:1737706455.988257   51396 service.cc:156]   StreamExecutor device (0): NVIDIA GeForce RTX 3080 Laptop GPU, Compute Capability 8.6\n",
      "2025-01-24 00:14:16.007751: I tensorflow/compiler/mlir/tensorflow/utils/dump_mlir_util.cc:268] disabling MLIR crash reproducer, set env var `MLIR_CRASH_REPRODUCER_DIRECTORY` to enable.\n",
      "I0000 00:00:1737706456.090153   51396 cuda_dnn.cc:529] Loaded cuDNN version 90300\n"
     ]
    },
    {
     "name": "stdout",
     "output_type": "stream",
     "text": [
      "\u001b[1m61/79\u001b[0m \u001b[32m━━━━━━━━━━━━━━━\u001b[0m\u001b[37m━━━━━\u001b[0m \u001b[1m0s\u001b[0m 834us/step - loss: 0.3367"
     ]
    },
    {
     "name": "stderr",
     "output_type": "stream",
     "text": [
      "I0000 00:00:1737706457.324159   51396 device_compiler.h:188] Compiled cluster using XLA!  This line is logged at most once for the lifetime of the process.\n"
     ]
    },
    {
     "name": "stdout",
     "output_type": "stream",
     "text": [
      "\u001b[1m79/79\u001b[0m \u001b[32m━━━━━━━━━━━━━━━━━━━━\u001b[0m\u001b[37m\u001b[0m \u001b[1m4s\u001b[0m 27ms/step - loss: 0.3331 - val_loss: 0.1584\n",
      "Epoch 2/50\n",
      "\u001b[1m79/79\u001b[0m \u001b[32m━━━━━━━━━━━━━━━━━━━━\u001b[0m\u001b[37m\u001b[0m \u001b[1m0s\u001b[0m 1ms/step - loss: 0.2329 - val_loss: 0.0970\n",
      "Epoch 3/50\n",
      "\u001b[1m79/79\u001b[0m \u001b[32m━━━━━━━━━━━━━━━━━━━━\u001b[0m\u001b[37m\u001b[0m \u001b[1m0s\u001b[0m 2ms/step - loss: 0.1637 - val_loss: 0.0772\n",
      "Epoch 4/50\n",
      "\u001b[1m79/79\u001b[0m \u001b[32m━━━━━━━━━━━━━━━━━━━━\u001b[0m\u001b[37m\u001b[0m \u001b[1m0s\u001b[0m 1ms/step - loss: 0.1487 - val_loss: 0.0718\n",
      "Epoch 5/50\n",
      "\u001b[1m79/79\u001b[0m \u001b[32m━━━━━━━━━━━━━━━━━━━━\u001b[0m\u001b[37m\u001b[0m \u001b[1m0s\u001b[0m 2ms/step - loss: 0.2026 - val_loss: 0.0694\n",
      "Epoch 6/50\n",
      "\u001b[1m79/79\u001b[0m \u001b[32m━━━━━━━━━━━━━━━━━━━━\u001b[0m\u001b[37m\u001b[0m \u001b[1m0s\u001b[0m 2ms/step - loss: 0.1525 - val_loss: 0.0681\n",
      "Epoch 7/50\n",
      "\u001b[1m79/79\u001b[0m \u001b[32m━━━━━━━━━━━━━━━━━━━━\u001b[0m\u001b[37m\u001b[0m \u001b[1m0s\u001b[0m 2ms/step - loss: 0.2018 - val_loss: 0.0673\n",
      "Epoch 8/50\n",
      "\u001b[1m79/79\u001b[0m \u001b[32m━━━━━━━━━━━━━━━━━━━━\u001b[0m\u001b[37m\u001b[0m \u001b[1m0s\u001b[0m 2ms/step - loss: 0.1114 - val_loss: 0.0671\n",
      "Epoch 9/50\n",
      "\u001b[1m79/79\u001b[0m \u001b[32m━━━━━━━━━━━━━━━━━━━━\u001b[0m\u001b[37m\u001b[0m \u001b[1m0s\u001b[0m 1ms/step - loss: 0.1027 - val_loss: 0.0669\n",
      "Epoch 10/50\n",
      "\u001b[1m79/79\u001b[0m \u001b[32m━━━━━━━━━━━━━━━━━━━━\u001b[0m\u001b[37m\u001b[0m \u001b[1m0s\u001b[0m 2ms/step - loss: 0.1533 - val_loss: 0.0667\n",
      "Epoch 11/50\n",
      "\u001b[1m79/79\u001b[0m \u001b[32m━━━━━━━━━━━━━━━━━━━━\u001b[0m\u001b[37m\u001b[0m \u001b[1m0s\u001b[0m 2ms/step - loss: 0.1267 - val_loss: 0.0666\n",
      "Epoch 12/50\n",
      "\u001b[1m79/79\u001b[0m \u001b[32m━━━━━━━━━━━━━━━━━━━━\u001b[0m\u001b[37m\u001b[0m \u001b[1m0s\u001b[0m 2ms/step - loss: 0.1346 - val_loss: 0.0665\n",
      "Epoch 13/50\n",
      "\u001b[1m79/79\u001b[0m \u001b[32m━━━━━━━━━━━━━━━━━━━━\u001b[0m\u001b[37m\u001b[0m \u001b[1m0s\u001b[0m 2ms/step - loss: 0.1444 - val_loss: 0.0665\n",
      "Epoch 14/50\n",
      "\u001b[1m79/79\u001b[0m \u001b[32m━━━━━━━━━━━━━━━━━━━━\u001b[0m\u001b[37m\u001b[0m \u001b[1m0s\u001b[0m 2ms/step - loss: 0.1386 - val_loss: 0.0665\n",
      "Epoch 15/50\n",
      "\u001b[1m79/79\u001b[0m \u001b[32m━━━━━━━━━━━━━━━━━━━━\u001b[0m\u001b[37m\u001b[0m \u001b[1m0s\u001b[0m 2ms/step - loss: 0.1697 - val_loss: 0.0664\n",
      "Epoch 16/50\n",
      "\u001b[1m79/79\u001b[0m \u001b[32m━━━━━━━━━━━━━━━━━━━━\u001b[0m\u001b[37m\u001b[0m \u001b[1m0s\u001b[0m 2ms/step - loss: 0.1033 - val_loss: 0.0665\n",
      "Epoch 17/50\n",
      "\u001b[1m79/79\u001b[0m \u001b[32m━━━━━━━━━━━━━━━━━━━━\u001b[0m\u001b[37m\u001b[0m \u001b[1m0s\u001b[0m 2ms/step - loss: 0.1832 - val_loss: 0.0664\n",
      "Epoch 18/50\n",
      "\u001b[1m79/79\u001b[0m \u001b[32m━━━━━━━━━━━━━━━━━━━━\u001b[0m\u001b[37m\u001b[0m \u001b[1m0s\u001b[0m 2ms/step - loss: 0.1371 - val_loss: 0.0663\n",
      "Epoch 19/50\n",
      "\u001b[1m79/79\u001b[0m \u001b[32m━━━━━━━━━━━━━━━━━━━━\u001b[0m\u001b[37m\u001b[0m \u001b[1m0s\u001b[0m 2ms/step - loss: 0.1483 - val_loss: 0.0663\n",
      "Epoch 20/50\n",
      "\u001b[1m79/79\u001b[0m \u001b[32m━━━━━━━━━━━━━━━━━━━━\u001b[0m\u001b[37m\u001b[0m \u001b[1m0s\u001b[0m 2ms/step - loss: 0.1275 - val_loss: 0.0662\n",
      "Epoch 21/50\n",
      "\u001b[1m79/79\u001b[0m \u001b[32m━━━━━━━━━━━━━━━━━━━━\u001b[0m\u001b[37m\u001b[0m \u001b[1m0s\u001b[0m 2ms/step - loss: 0.1356 - val_loss: 0.0662\n",
      "Epoch 22/50\n",
      "\u001b[1m79/79\u001b[0m \u001b[32m━━━━━━━━━━━━━━━━━━━━\u001b[0m\u001b[37m\u001b[0m \u001b[1m0s\u001b[0m 2ms/step - loss: 0.1143 - val_loss: 0.0661\n",
      "Epoch 23/50\n",
      "\u001b[1m79/79\u001b[0m \u001b[32m━━━━━━━━━━━━━━━━━━━━\u001b[0m\u001b[37m\u001b[0m \u001b[1m0s\u001b[0m 2ms/step - loss: 0.1185 - val_loss: 0.0662\n",
      "Epoch 24/50\n",
      "\u001b[1m79/79\u001b[0m \u001b[32m━━━━━━━━━━━━━━━━━━━━\u001b[0m\u001b[37m\u001b[0m \u001b[1m0s\u001b[0m 2ms/step - loss: 0.1197 - val_loss: 0.0664\n",
      "Epoch 25/50\n",
      "\u001b[1m79/79\u001b[0m \u001b[32m━━━━━━━━━━━━━━━━━━━━\u001b[0m\u001b[37m\u001b[0m \u001b[1m0s\u001b[0m 2ms/step - loss: 0.1448 - val_loss: 0.0662\n",
      "Epoch 26/50\n",
      "\u001b[1m79/79\u001b[0m \u001b[32m━━━━━━━━━━━━━━━━━━━━\u001b[0m\u001b[37m\u001b[0m \u001b[1m0s\u001b[0m 2ms/step - loss: 0.1403 - val_loss: 0.0662\n",
      "Epoch 27/50\n",
      "\u001b[1m79/79\u001b[0m \u001b[32m━━━━━━━━━━━━━━━━━━━━\u001b[0m\u001b[37m\u001b[0m \u001b[1m0s\u001b[0m 2ms/step - loss: 0.1768 - val_loss: 0.0662\n",
      "Epoch 28/50\n",
      "\u001b[1m79/79\u001b[0m \u001b[32m━━━━━━━━━━━━━━━━━━━━\u001b[0m\u001b[37m\u001b[0m \u001b[1m0s\u001b[0m 2ms/step - loss: 0.1330 - val_loss: 0.0661\n",
      "Epoch 29/50\n",
      "\u001b[1m79/79\u001b[0m \u001b[32m━━━━━━━━━━━━━━━━━━━━\u001b[0m\u001b[37m\u001b[0m \u001b[1m0s\u001b[0m 2ms/step - loss: 0.1082 - val_loss: 0.0662\n",
      "Epoch 30/50\n",
      "\u001b[1m79/79\u001b[0m \u001b[32m━━━━━━━━━━━━━━━━━━━━\u001b[0m\u001b[37m\u001b[0m \u001b[1m0s\u001b[0m 2ms/step - loss: 0.1036 - val_loss: 0.0662\n",
      "Epoch 31/50\n",
      "\u001b[1m79/79\u001b[0m \u001b[32m━━━━━━━━━━━━━━━━━━━━\u001b[0m\u001b[37m\u001b[0m \u001b[1m0s\u001b[0m 2ms/step - loss: 0.1299 - val_loss: 0.0661\n",
      "Epoch 32/50\n",
      "\u001b[1m79/79\u001b[0m \u001b[32m━━━━━━━━━━━━━━━━━━━━\u001b[0m\u001b[37m\u001b[0m \u001b[1m0s\u001b[0m 2ms/step - loss: 0.1822 - val_loss: 0.0662\n",
      "Epoch 33/50\n",
      "\u001b[1m79/79\u001b[0m \u001b[32m━━━━━━━━━━━━━━━━━━━━\u001b[0m\u001b[37m\u001b[0m \u001b[1m0s\u001b[0m 2ms/step - loss: 0.1324 - val_loss: 0.0661\n",
      "Epoch 34/50\n",
      "\u001b[1m79/79\u001b[0m \u001b[32m━━━━━━━━━━━━━━━━━━━━\u001b[0m\u001b[37m\u001b[0m \u001b[1m0s\u001b[0m 2ms/step - loss: 0.1224 - val_loss: 0.0661\n",
      "Epoch 35/50\n",
      "\u001b[1m79/79\u001b[0m \u001b[32m━━━━━━━━━━━━━━━━━━━━\u001b[0m\u001b[37m\u001b[0m \u001b[1m0s\u001b[0m 2ms/step - loss: 0.1012 - val_loss: 0.0661\n",
      "Epoch 36/50\n",
      "\u001b[1m79/79\u001b[0m \u001b[32m━━━━━━━━━━━━━━━━━━━━\u001b[0m\u001b[37m\u001b[0m \u001b[1m0s\u001b[0m 2ms/step - loss: 0.1325 - val_loss: 0.0661\n",
      "Epoch 37/50\n",
      "\u001b[1m79/79\u001b[0m \u001b[32m━━━━━━━━━━━━━━━━━━━━\u001b[0m\u001b[37m\u001b[0m \u001b[1m0s\u001b[0m 2ms/step - loss: 0.1673 - val_loss: 0.0661\n",
      "Epoch 38/50\n",
      "\u001b[1m79/79\u001b[0m \u001b[32m━━━━━━━━━━━━━━━━━━━━\u001b[0m\u001b[37m\u001b[0m \u001b[1m0s\u001b[0m 2ms/step - loss: 0.1357 - val_loss: 0.0661\n",
      "Epoch 39/50\n",
      "\u001b[1m79/79\u001b[0m \u001b[32m━━━━━━━━━━━━━━━━━━━━\u001b[0m\u001b[37m\u001b[0m \u001b[1m0s\u001b[0m 2ms/step - loss: 0.0967 - val_loss: 0.0661\n",
      "Epoch 40/50\n",
      "\u001b[1m79/79\u001b[0m \u001b[32m━━━━━━━━━━━━━━━━━━━━\u001b[0m\u001b[37m\u001b[0m \u001b[1m0s\u001b[0m 2ms/step - loss: 0.1200 - val_loss: 0.0661\n",
      "Epoch 41/50\n",
      "\u001b[1m79/79\u001b[0m \u001b[32m━━━━━━━━━━━━━━━━━━━━\u001b[0m\u001b[37m\u001b[0m \u001b[1m0s\u001b[0m 2ms/step - loss: 0.1088 - val_loss: 0.0661\n",
      "Epoch 42/50\n",
      "\u001b[1m79/79\u001b[0m \u001b[32m━━━━━━━━━━━━━━━━━━━━\u001b[0m\u001b[37m\u001b[0m \u001b[1m0s\u001b[0m 2ms/step - loss: 0.1598 - val_loss: 0.0661\n",
      "Epoch 43/50\n",
      "\u001b[1m79/79\u001b[0m \u001b[32m━━━━━━━━━━━━━━━━━━━━\u001b[0m\u001b[37m\u001b[0m \u001b[1m0s\u001b[0m 2ms/step - loss: 0.1010 - val_loss: 0.0661\n",
      "Epoch 44/50\n",
      "\u001b[1m79/79\u001b[0m \u001b[32m━━━━━━━━━━━━━━━━━━━━\u001b[0m\u001b[37m\u001b[0m \u001b[1m0s\u001b[0m 2ms/step - loss: 0.1626 - val_loss: 0.0661\n",
      "Epoch 45/50\n",
      "\u001b[1m79/79\u001b[0m \u001b[32m━━━━━━━━━━━━━━━━━━━━\u001b[0m\u001b[37m\u001b[0m \u001b[1m0s\u001b[0m 2ms/step - loss: 0.1697 - val_loss: 0.0661\n",
      "Epoch 46/50\n",
      "\u001b[1m79/79\u001b[0m \u001b[32m━━━━━━━━━━━━━━━━━━━━\u001b[0m\u001b[37m\u001b[0m \u001b[1m0s\u001b[0m 2ms/step - loss: 0.1001 - val_loss: 0.0661\n",
      "Epoch 47/50\n",
      "\u001b[1m79/79\u001b[0m \u001b[32m━━━━━━━━━━━━━━━━━━━━\u001b[0m\u001b[37m\u001b[0m \u001b[1m0s\u001b[0m 2ms/step - loss: 0.1917 - val_loss: 0.0660\n",
      "Epoch 48/50\n",
      "\u001b[1m79/79\u001b[0m \u001b[32m━━━━━━━━━━━━━━━━━━━━\u001b[0m\u001b[37m\u001b[0m \u001b[1m0s\u001b[0m 2ms/step - loss: 0.1172 - val_loss: 0.0661\n",
      "Epoch 49/50\n",
      "\u001b[1m79/79\u001b[0m \u001b[32m━━━━━━━━━━━━━━━━━━━━\u001b[0m\u001b[37m\u001b[0m \u001b[1m0s\u001b[0m 1ms/step - loss: 0.1033 - val_loss: 0.0661\n",
      "Epoch 50/50\n",
      "\u001b[1m79/79\u001b[0m \u001b[32m━━━━━━━━━━━━━━━━━━━━\u001b[0m\u001b[37m\u001b[0m \u001b[1m0s\u001b[0m 2ms/step - loss: 0.1216 - val_loss: 0.0661\n",
      "\u001b[1m175/175\u001b[0m \u001b[32m━━━━━━━━━━━━━━━━━━━━\u001b[0m\u001b[37m\u001b[0m \u001b[1m1s\u001b[0m 3ms/step    \n",
      "              precision    recall  f1-score   support\n",
      "\n",
      "           0       0.97      1.00      0.98      5425\n",
      "           1       0.00      0.00      0.00       159\n",
      "\n",
      "    accuracy                           0.97      5584\n",
      "   macro avg       0.49      0.50      0.49      5584\n",
      "weighted avg       0.94      0.97      0.96      5584\n",
      "\n"
     ]
    }
   ],
   "source": [
    "import tensorflow as tf\n",
    "from tensorflow.keras.models import Model\n",
    "from tensorflow.keras.layers import Input, Dense\n",
    "from sklearn.compose import ColumnTransformer\n",
    "from sklearn.preprocessing import OneHotEncoder, StandardScaler\n",
    "from sklearn.metrics import classification_report\n",
    "\n",
    "# Preprocess the data\n",
    "categorical_features = ['risk_tolerance', 'investment_experience', 'liquidity_needs', 'platform', 'instrument_type_first_traded']\n",
    "numerical_features = ['time_spent', 'first_deposit_amount', 'total_days']\n",
    "\n",
    "preprocessor = ColumnTransformer(\n",
    "    transformers=[\n",
    "        ('num', StandardScaler(), numerical_features),\n",
    "        ('cat', OneHotEncoder(sparse_output=False, handle_unknown='ignore'), categorical_features)\n",
    "    ]\n",
    ")\n",
    "\n",
    "X = preprocessor.fit_transform(features_df.drop(columns=['churned']))\n",
    "\n",
    "# Define the Autoencoder\n",
    "input_dim = X.shape[1]\n",
    "input_layer = Input(shape=(input_dim,))\n",
    "encoder = Dense(64, activation=\"relu\")(input_layer)\n",
    "encoder = Dense(32, activation=\"relu\")(encoder)\n",
    "decoder = Dense(64, activation=\"relu\")(encoder)\n",
    "output_layer = Dense(input_dim, activation=\"sigmoid\")(decoder)\n",
    "\n",
    "autoencoder = Model(inputs=input_layer, outputs=output_layer)\n",
    "autoencoder.compile(optimizer='adam', loss='mse')\n",
    "\n",
    "# Train the Autoencoder\n",
    "autoencoder.fit(X, X, epochs=50, batch_size=64, shuffle=True, validation_split=0.1)\n",
    "\n",
    "# Calculate reconstruction error\n",
    "reconstruction = autoencoder.predict(X)\n",
    "reconstruction_error = tf.reduce_mean(tf.square(X - reconstruction), axis=1).numpy()\n",
    "\n",
    "# Evaluate using thresholds\n",
    "threshold = reconstruction_error.mean() + 2 * reconstruction_error.std()\n",
    "predictions = (reconstruction_error > threshold).astype(int)\n",
    "\n",
    "# Print the classification report\n",
    "print(classification_report(features_df['churned'], predictions))\n"
   ]
  },
  {
   "cell_type": "markdown",
   "id": "00cd1d8b-42cc-441b-bfbe-4dbd1cfec208",
   "metadata": {},
   "source": [
    "Gaussian Mixture Models (GMM)\n",
    "GMM fits a mixture of Gaussians and identifies low-density regions as anomalies."
   ]
  },
  {
   "cell_type": "code",
   "execution_count": 51,
   "id": "622264f0-7b29-4aef-b147-2c2fc92a22da",
   "metadata": {},
   "outputs": [
    {
     "name": "stdout",
     "output_type": "stream",
     "text": [
      "              precision    recall  f1-score   support\n",
      "\n",
      "           0       0.97      0.96      0.96      5425\n",
      "           1       0.01      0.01      0.01       159\n",
      "\n",
      "    accuracy                           0.93      5584\n",
      "   macro avg       0.49      0.49      0.49      5584\n",
      "weighted avg       0.94      0.93      0.94      5584\n",
      "\n"
     ]
    }
   ],
   "source": [
    "from sklearn.mixture import GaussianMixture\n",
    "\n",
    "gmm = GaussianMixture(n_components=2, random_state=42)\n",
    "gmm.fit(X)\n",
    "\n",
    "# Log-likelihood as anomaly score\n",
    "log_likelihood = gmm.score_samples(X)\n",
    "threshold = log_likelihood.mean() - 2 * log_likelihood.std()\n",
    "predictions = (log_likelihood < threshold).astype(int)\n",
    "print(classification_report(features_df['churned'], predictions))"
   ]
  },
  {
   "cell_type": "markdown",
   "id": "87ace679-94cd-4530-8bc9-c061d0c4ffaa",
   "metadata": {},
   "source": [
    "Hidden Markov Models (HMM)\n",
    "HMMs model temporal data and identify low-probability sequences as anomalies."
   ]
  },
  {
   "cell_type": "code",
   "execution_count": 53,
   "id": "03433447-405f-4103-9c4c-3a20f23a0622",
   "metadata": {},
   "outputs": [
    {
     "name": "stdout",
     "output_type": "stream",
     "text": [
      "Collecting hmmlearn\n",
      "  Downloading hmmlearn-0.3.3-cp312-cp312-manylinux_2_17_x86_64.manylinux2014_x86_64.whl.metadata (3.0 kB)\n",
      "Requirement already satisfied: numpy>=1.10 in ./magpenv/lib/python3.12/site-packages (from hmmlearn) (2.0.2)\n",
      "Requirement already satisfied: scikit-learn!=0.22.0,>=0.16 in ./magpenv/lib/python3.12/site-packages (from hmmlearn) (1.6.0)\n",
      "Requirement already satisfied: scipy>=0.19 in ./magpenv/lib/python3.12/site-packages (from hmmlearn) (1.15.0)\n",
      "Requirement already satisfied: joblib>=1.2.0 in ./magpenv/lib/python3.12/site-packages (from scikit-learn!=0.22.0,>=0.16->hmmlearn) (1.4.2)\n",
      "Requirement already satisfied: threadpoolctl>=3.1.0 in ./magpenv/lib/python3.12/site-packages (from scikit-learn!=0.22.0,>=0.16->hmmlearn) (3.5.0)\n",
      "Downloading hmmlearn-0.3.3-cp312-cp312-manylinux_2_17_x86_64.manylinux2014_x86_64.whl (165 kB)\n",
      "Installing collected packages: hmmlearn\n",
      "Successfully installed hmmlearn-0.3.3\n"
     ]
    }
   ],
   "source": [
    "!pip install hmmlearn"
   ]
  },
  {
   "cell_type": "code",
   "execution_count": 56,
   "id": "5d8cc7fd-dc74-4908-9039-f4a9550206a9",
   "metadata": {},
   "outputs": [
    {
     "name": "stdout",
     "output_type": "stream",
     "text": [
      "              precision    recall  f1-score   support\n",
      "\n",
      "           0       0.97      1.00      0.99      5425\n",
      "           1       0.00      0.00      0.00       159\n",
      "\n",
      "    accuracy                           0.97      5584\n",
      "   macro avg       0.49      0.50      0.49      5584\n",
      "weighted avg       0.94      0.97      0.96      5584\n",
      "\n"
     ]
    },
    {
     "name": "stderr",
     "output_type": "stream",
     "text": [
      "/home/oem/Documents/github/magnimind_projects/magpenv/lib/python3.12/site-packages/sklearn/metrics/_classification.py:1565: UndefinedMetricWarning: Precision is ill-defined and being set to 0.0 in labels with no predicted samples. Use `zero_division` parameter to control this behavior.\n",
      "  _warn_prf(average, modifier, f\"{metric.capitalize()} is\", len(result))\n",
      "/home/oem/Documents/github/magnimind_projects/magpenv/lib/python3.12/site-packages/sklearn/metrics/_classification.py:1565: UndefinedMetricWarning: Precision is ill-defined and being set to 0.0 in labels with no predicted samples. Use `zero_division` parameter to control this behavior.\n",
      "  _warn_prf(average, modifier, f\"{metric.capitalize()} is\", len(result))\n",
      "/home/oem/Documents/github/magnimind_projects/magpenv/lib/python3.12/site-packages/sklearn/metrics/_classification.py:1565: UndefinedMetricWarning: Precision is ill-defined and being set to 0.0 in labels with no predicted samples. Use `zero_division` parameter to control this behavior.\n",
      "  _warn_prf(average, modifier, f\"{metric.capitalize()} is\", len(result))\n"
     ]
    }
   ],
   "source": [
    "from hmmlearn.hmm import GaussianHMM\n",
    "from sklearn.metrics import classification_report\n",
    "import numpy as np\n",
    "\n",
    "# Fit an HMM model\n",
    "hmm = GaussianHMM(n_components=2, covariance_type=\"diag\", n_iter=100, random_state=42)\n",
    "hmm.fit(X)\n",
    "\n",
    "# Calculate log-likelihood for each sample\n",
    "log_likelihoods = np.array([hmm.score(X[i:i+1]) for i in range(len(X))])\n",
    "\n",
    "# Use log-likelihood as the anomaly score\n",
    "threshold = log_likelihoods.mean() - 2 * log_likelihoods.std()\n",
    "predictions = (log_likelihoods < threshold).astype(int)\n",
    "\n",
    "# Evaluate the results\n",
    "print(classification_report(features_df['churned'], predictions))\n"
   ]
  },
  {
   "cell_type": "markdown",
   "id": "d048869f-8be2-431c-b8e3-2a05c02be3bc",
   "metadata": {},
   "source": [
    "k-Means Clustering\n",
    "k-Means identifies anomalies based on their distance to cluster centroids."
   ]
  },
  {
   "cell_type": "code",
   "execution_count": 57,
   "id": "0d28b5b9-c585-4bf7-9e59-86584fff55f9",
   "metadata": {},
   "outputs": [
    {
     "name": "stdout",
     "output_type": "stream",
     "text": [
      "              precision    recall  f1-score   support\n",
      "\n",
      "           0       0.97      0.99      0.98      5425\n",
      "           1       0.01      0.01      0.01       159\n",
      "\n",
      "    accuracy                           0.96      5584\n",
      "   macro avg       0.49      0.50      0.49      5584\n",
      "weighted avg       0.94      0.96      0.95      5584\n",
      "\n"
     ]
    }
   ],
   "source": [
    "from sklearn.cluster import KMeans\n",
    "from sklearn.metrics import pairwise_distances_argmin_min\n",
    "\n",
    "kmeans = KMeans(n_clusters=2, random_state=42)\n",
    "kmeans.fit(X)\n",
    "\n",
    "# Distance to the closest cluster centroid as anomaly score\n",
    "_, distances = pairwise_distances_argmin_min(X, kmeans.cluster_centers_)\n",
    "threshold = distances.mean() + 2 * distances.std()\n",
    "predictions = (distances > threshold).astype(int)\n",
    "print(classification_report(features_df['churned'], predictions))"
   ]
  },
  {
   "cell_type": "code",
   "execution_count": null,
   "id": "0fe177a6-e7eb-4a9a-a124-e63edb3d577d",
   "metadata": {},
   "outputs": [],
   "source": []
  }
 ],
 "metadata": {
  "kernelspec": {
   "display_name": "Python (magpenv)",
   "language": "python",
   "name": "magpenv"
  },
  "language_info": {
   "codemirror_mode": {
    "name": "ipython",
    "version": 3
   },
   "file_extension": ".py",
   "mimetype": "text/x-python",
   "name": "python",
   "nbconvert_exporter": "python",
   "pygments_lexer": "ipython3",
   "version": "3.12.3"
  }
 },
 "nbformat": 4,
 "nbformat_minor": 5
}
