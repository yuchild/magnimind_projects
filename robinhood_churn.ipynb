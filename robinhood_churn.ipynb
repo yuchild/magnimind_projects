{
 "cells": [
  {
   "cell_type": "markdown",
   "id": "a3f416dd-9f7d-4d5c-98f8-60d9c86c7c82",
   "metadata": {},
   "source": [
    "### Churn @ Robinhood\n",
    "#### Load Libraries and Data"
   ]
  },
  {
   "cell_type": "code",
   "execution_count": 1,
   "id": "db448b89-e3eb-4152-b27d-88017574821c",
   "metadata": {},
   "outputs": [
    {
     "name": "stdout",
     "output_type": "stream",
     "text": [
      "Available GPUs: <Managed Device 0>\n"
     ]
    }
   ],
   "source": [
    "from numba import cuda\n",
    "\n",
    "try:\n",
    "    print(\"Available GPUs:\", cuda.gpus)\n",
    "except cuda.CudaSupportError as e:\n",
    "    print(\"CUDA Error:\", e)"
   ]
  },
  {
   "cell_type": "code",
   "execution_count": 2,
   "id": "6188b919-7526-4909-ab1e-62af0eac877b",
   "metadata": {},
   "outputs": [],
   "source": [
    "import cudf as cf\n",
    "equity_df_raw = cf.read_csv('./data/equity_value_data.csv')\n",
    "features_df_raw = cf.read_csv('./data/features_data.csv')\n",
    "\n",
    "equity_df = equity_df_raw.copy()\n",
    "features_df = features_df_raw.copy()"
   ]
  },
  {
   "cell_type": "code",
   "execution_count": 3,
   "id": "0b5d0bf5-595b-4bd2-8492-a42f0005f0db",
   "metadata": {},
   "outputs": [
    {
     "name": "stdout",
     "output_type": "stream",
     "text": [
      "<class 'cudf.core.dataframe.DataFrame'>\n",
      "RangeIndex: 1119158 entries, 0 to 1119157\n",
      "Data columns (total 3 columns):\n",
      " #   Column        Non-Null Count    Dtype\n",
      "---  ------        --------------    -----\n",
      " 0   timestamp     1119158 non-null  object\n",
      " 1   close_equity  1119158 non-null  float64\n",
      " 2   user_id       1119158 non-null  object\n",
      "dtypes: float64(1), object(2)\n",
      "memory usage: 72.6+ MB\n"
     ]
    }
   ],
   "source": [
    "equity_df.info()"
   ]
  },
  {
   "cell_type": "code",
   "execution_count": 4,
   "id": "72b93a2e-9529-4e93-a6de-50a747649a3c",
   "metadata": {},
   "outputs": [
    {
     "name": "stdout",
     "output_type": "stream",
     "text": [
      "<class 'cudf.core.dataframe.DataFrame'>\n",
      "RangeIndex: 5584 entries, 0 to 5583\n",
      "Data columns (total 9 columns):\n",
      " #   Column                        Non-Null Count  Dtype\n",
      "---  ------                        --------------  -----\n",
      " 0   risk_tolerance                5584 non-null   object\n",
      " 1   investment_experience         5584 non-null   object\n",
      " 2   liquidity_needs               5584 non-null   object\n",
      " 3   platform                      5584 non-null   object\n",
      " 4   time_spent                    5584 non-null   float64\n",
      " 5   instrument_type_first_traded  5584 non-null   object\n",
      " 6   first_deposit_amount          5584 non-null   float64\n",
      " 7   time_horizon                  5584 non-null   object\n",
      " 8   user_id                       5584 non-null   object\n",
      "dtypes: float64(2), object(7)\n",
      "memory usage: 896.8+ KB\n"
     ]
    }
   ],
   "source": [
    "features_df.info()"
   ]
  },
  {
   "cell_type": "markdown",
   "id": "0433abdc-8453-42e0-ab0f-1ec3b1c802a6",
   "metadata": {},
   "source": [
    "#### a). What percentage of users have churned in the data?\n",
    "A user is *churned* when their equity falls below 10 usd for 28 consecutive calendar days or longer having perviously been at least 10 usd\n",
    "\n",
    "**NOTE** Since no equities falls under 10 usd, threshold is set to 11 usd instead"
   ]
  },
  {
   "cell_type": "code",
   "execution_count": 7,
   "id": "09e65c4e-4ebf-49bd-b051-4f709ed91887",
   "metadata": {},
   "outputs": [
    {
     "name": "stdout",
     "output_type": "stream",
     "text": [
      "Churned Percentage: 0.88%\n"
     ]
    }
   ],
   "source": [
    "# Step 1: Ensure the timestamp column is datetime and sort the data\n",
    "equity_df['timestamp'] = cf.to_datetime(equity_df['timestamp'])\n",
    "equity_df = equity_df.sort_values(['user_id', 'timestamp'])\n",
    "\n",
    "# Step 2: Flag close_equity below 11\n",
    "equity_df['below_11'] = (equity_df['close_equity'] < 11).astype(int)\n",
    "\n",
    "# Step 3: Compute rolling 28-day windows for each user\n",
    "equity_df['below_11_28d'] = equity_df.groupby('user_id')['below_11'].rolling(window=28, min_periods=28).sum().reset_index(0, drop=True)\n",
    "\n",
    "# Step 4: Identify churn (continuous 28 days below $11)\n",
    "equity_df['churn'] = (equity_df['below_11_28d'] == 28).astype(int).copy()\n",
    "\n",
    "# Step 5: Check if the user ever had close_equity >= 11\n",
    "# Group by 'user_id' to find the max close_equity\n",
    "user_max_equity = equity_df.groupby('user_id')['close_equity'].max().reset_index()\n",
    "user_max_equity.rename(columns={\"close_equity\": \"max_equity\"}, inplace=True)\n",
    "\n",
    "# Merge back to associate max_equity with each user_id in the main DataFrame\n",
    "equity_df = equity_df.merge(user_max_equity, on=\"user_id\", how=\"left\")\n",
    "\n",
    "# Add a flag for users who had close_equity >= 11 at some point\n",
    "equity_df['above_11_before'] = (equity_df['max_equity'] >= 11).astype(int)\n",
    "\n",
    "# Step 6: Filter churned users\n",
    "churned_users = equity_df.loc[\n",
    "    (equity_df['churn'] == 1) & (equity_df['above_11_before'] == 1),\n",
    "    'user_id'\n",
    "].unique()\n",
    "\n",
    "# Step 7: Calculate the churn percentage\n",
    "total_users = equity_df['user_id'].nunique()\n",
    "churn_percentage = (len(churned_users) / total_users) * 100\n",
    "\n",
    "print(f\"Churned Percentage: {churn_percentage:.2f}%\")"
   ]
  },
  {
   "cell_type": "code",
   "execution_count": null,
   "id": "91385a56-c5ed-45f2-abb1-30d3bd85ff6f",
   "metadata": {},
   "outputs": [],
   "source": []
  },
  {
   "cell_type": "code",
   "execution_count": null,
   "id": "857d9399-b5a2-4db5-89a4-bf9f5f026531",
   "metadata": {},
   "outputs": [],
   "source": []
  },
  {
   "cell_type": "code",
   "execution_count": null,
   "id": "2dd97237-dcab-4c73-95aa-a5c413508701",
   "metadata": {},
   "outputs": [],
   "source": []
  }
 ],
 "metadata": {
  "kernelspec": {
   "display_name": "Python (magpenv)",
   "language": "python",
   "name": "magpenv"
  },
  "language_info": {
   "codemirror_mode": {
    "name": "ipython",
    "version": 3
   },
   "file_extension": ".py",
   "mimetype": "text/x-python",
   "name": "python",
   "nbconvert_exporter": "python",
   "pygments_lexer": "ipython3",
   "version": "3.12.3"
  }
 },
 "nbformat": 4,
 "nbformat_minor": 5
}
